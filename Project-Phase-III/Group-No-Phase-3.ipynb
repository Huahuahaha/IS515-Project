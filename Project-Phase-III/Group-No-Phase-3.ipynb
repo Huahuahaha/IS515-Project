{
 "cells": [
  {
   "cell_type": "markdown",
   "id": "27441829-3bf0-45fd-8d7a-dafaf6947fad",
   "metadata": {},
   "source": [
    "# Project Phase III: Logica Design and Queries"
   ]
  },
  {
   "cell_type": "markdown",
   "id": "fb7d5965-a607-4107-97fa-2039ece0fc5d",
   "metadata": {},
   "source": [
    "Based on the feedback you received from previous milstones, using Logica to design the model and translate SQL queries in this notebook.\n",
    "\n",
    "Note: You might check **company/Logica_COMPANY.ipynb** for more information "
   ]
  },
  {
   "cell_type": "markdown",
   "id": "ea2bb6a1-4751-431e-a25f-8e21b55df47f",
   "metadata": {},
   "source": [
    "### Package Installation"
   ]
  },
  {
   "cell_type": "markdown",
   "id": "e1405820-19cd-47d4-be87-a88776845db2",
   "metadata": {},
   "source": [
    "First-time users need to install the following packages"
   ]
  },
  {
   "cell_type": "code",
   "execution_count": 2,
   "id": "3ff4af4b-e77e-46fe-9855-bda28e33068d",
   "metadata": {},
   "outputs": [
    {
     "name": "stdout",
     "output_type": "stream",
     "text": [
      "Requirement already satisfied: logica in /home/vscode/.local/lib/python3.9/site-packages (1.3.1415926)\n",
      "Requirement already satisfied: pandas in /home/vscode/.local/lib/python3.9/site-packages (2.1.3)\n",
      "Requirement already satisfied: tzdata>=2022.1 in /home/vscode/.local/lib/python3.9/site-packages (from pandas) (2023.3)\n",
      "Requirement already satisfied: numpy<2,>=1.22.4 in /home/vscode/.local/lib/python3.9/site-packages (from pandas) (1.26.2)\n",
      "Requirement already satisfied: python-dateutil>=2.8.2 in /home/vscode/.local/lib/python3.9/site-packages (from pandas) (2.8.2)\n",
      "Requirement already satisfied: pytz>=2020.1 in /home/vscode/.local/lib/python3.9/site-packages (from pandas) (2023.3.post1)\n",
      "Requirement already satisfied: six>=1.5 in /home/vscode/.local/lib/python3.9/site-packages (from python-dateutil>=2.8.2->pandas) (1.16.0)\n",
      "Requirement already satisfied: ipython-sql in /home/vscode/.local/lib/python3.9/site-packages (0.5.0)\n",
      "Requirement already satisfied: ipython-genutils in /home/vscode/.local/lib/python3.9/site-packages (from ipython-sql) (0.2.0)\n",
      "Requirement already satisfied: six in /home/vscode/.local/lib/python3.9/site-packages (from ipython-sql) (1.16.0)\n",
      "Requirement already satisfied: sqlparse in /home/vscode/.local/lib/python3.9/site-packages (from ipython-sql) (0.4.4)\n",
      "Requirement already satisfied: ipython in /home/vscode/.local/lib/python3.9/site-packages (from ipython-sql) (8.18.1)\n",
      "Requirement already satisfied: sqlalchemy>=2.0 in /home/vscode/.local/lib/python3.9/site-packages (from ipython-sql) (2.0.23)\n",
      "Requirement already satisfied: prettytable in /home/vscode/.local/lib/python3.9/site-packages (from ipython-sql) (3.9.0)\n",
      "Requirement already satisfied: typing-extensions>=4.2.0 in /home/vscode/.local/lib/python3.9/site-packages (from sqlalchemy>=2.0->ipython-sql) (4.8.0)\n",
      "Requirement already satisfied: greenlet!=0.4.17 in /home/vscode/.local/lib/python3.9/site-packages (from sqlalchemy>=2.0->ipython-sql) (3.0.1)\n",
      "Requirement already satisfied: matplotlib-inline in /home/vscode/.local/lib/python3.9/site-packages (from ipython->ipython-sql) (0.1.6)\n",
      "Requirement already satisfied: exceptiongroup in /home/vscode/.local/lib/python3.9/site-packages (from ipython->ipython-sql) (1.2.0)\n",
      "Requirement already satisfied: pexpect>4.3 in /home/vscode/.local/lib/python3.9/site-packages (from ipython->ipython-sql) (4.9.0)\n",
      "Requirement already satisfied: jedi>=0.16 in /home/vscode/.local/lib/python3.9/site-packages (from ipython->ipython-sql) (0.19.1)\n",
      "Requirement already satisfied: traitlets>=5 in /home/vscode/.local/lib/python3.9/site-packages (from ipython->ipython-sql) (5.14.0)\n",
      "Requirement already satisfied: prompt-toolkit<3.1.0,>=3.0.41 in /home/vscode/.local/lib/python3.9/site-packages (from ipython->ipython-sql) (3.0.41)\n",
      "Requirement already satisfied: stack-data in /home/vscode/.local/lib/python3.9/site-packages (from ipython->ipython-sql) (0.6.3)\n",
      "Requirement already satisfied: pygments>=2.4.0 in /home/vscode/.local/lib/python3.9/site-packages (from ipython->ipython-sql) (2.17.2)\n",
      "Requirement already satisfied: decorator in /home/vscode/.local/lib/python3.9/site-packages (from ipython->ipython-sql) (5.1.1)\n",
      "Requirement already satisfied: parso<0.9.0,>=0.8.3 in /home/vscode/.local/lib/python3.9/site-packages (from jedi>=0.16->ipython->ipython-sql) (0.8.3)\n",
      "Requirement already satisfied: ptyprocess>=0.5 in /home/vscode/.local/lib/python3.9/site-packages (from pexpect>4.3->ipython->ipython-sql) (0.7.0)\n",
      "Requirement already satisfied: wcwidth in /home/vscode/.local/lib/python3.9/site-packages (from prompt-toolkit<3.1.0,>=3.0.41->ipython->ipython-sql) (0.2.12)\n",
      "Requirement already satisfied: executing>=1.2.0 in /home/vscode/.local/lib/python3.9/site-packages (from stack-data->ipython->ipython-sql) (2.0.1)\n",
      "Requirement already satisfied: asttokens>=2.1.0 in /home/vscode/.local/lib/python3.9/site-packages (from stack-data->ipython->ipython-sql) (2.4.1)\n",
      "Requirement already satisfied: pure-eval in /home/vscode/.local/lib/python3.9/site-packages (from stack-data->ipython->ipython-sql) (0.2.2)\n"
     ]
    }
   ],
   "source": [
    "!python3 -m pip install logica\n",
    "!python3 -m pip install pandas\n",
    "!pip install ipython-sql"
   ]
  },
  {
   "cell_type": "markdown",
   "id": "2e3f5043-7460-4779-b370-b5b7c26dc1aa",
   "metadata": {},
   "source": [
    "After running the cell above, please restart the kernel to move on"
   ]
  },
  {
   "cell_type": "markdown",
   "id": "d5336421-0f54-4e6b-bfa0-17aec63b9c7f",
   "metadata": {},
   "source": [
    "### Package Import"
   ]
  },
  {
   "cell_type": "markdown",
   "id": "07f5ff1f-ff73-48b9-a421-7dc7677e17db",
   "metadata": {},
   "source": [
    "You can disregard the messages (\"Could not import ...\") when executing the cell below"
   ]
  },
  {
   "cell_type": "code",
   "execution_count": 3,
   "id": "bdc4b02a-6333-4ba6-8e4b-2db8c9c69195",
   "metadata": {},
   "outputs": [
    {
     "name": "stdout",
     "output_type": "stream",
     "text": [
      "Could not import google.cloud.bigquery.\n",
      "Could not import google.cloud.auth.\n",
      "Could not import google.colab.widgets.\n"
     ]
    }
   ],
   "source": [
    "from logica import colab_logica\n",
    "import pandas as pd\n",
    "import sqlite3"
   ]
  },
  {
   "cell_type": "code",
   "execution_count": 4,
   "id": "a3dca9da-8207-47a2-ac26-cb9760710cae",
   "metadata": {},
   "outputs": [],
   "source": [
    "colab_logica.SetPreamble(\n",
    "    '@Engine(\"sqlite\"); @AttachDatabase(\"mydata\", \"my_database.db\");'\n",
    ")"
   ]
  },
  {
   "cell_type": "code",
   "execution_count": 5,
   "id": "e3c7e1d4-c95c-4a1f-82c2-9e3201d0d011",
   "metadata": {},
   "outputs": [],
   "source": [
    "%load_ext sql"
   ]
  },
  {
   "cell_type": "markdown",
   "id": "45392a18-e405-49e4-9c33-7aff747f0be7",
   "metadata": {},
   "source": [
    "### Database Creation [10pts]"
   ]
  },
  {
   "cell_type": "markdown",
   "id": "d068c2f8-4acc-478b-b3f0-00064c481c56",
   "metadata": {},
   "source": [
    "Logica is typically run on a database. Since we only possess CSV files, we need first create a database.\n",
    "\n",
    "**Note: Upload your csv files to `datasets` folder.**"
   ]
  },
  {
   "cell_type": "code",
   "execution_count": 6,
   "id": "0d5b18f1-d4d2-4637-afb7-31932fb6340d",
   "metadata": {},
   "outputs": [],
   "source": [
    "# Read csv files as Pandas DataFrame [2pts]\n",
    "# Insert your code below:\n",
    "Dis = pd.read_csv(\"datasets/DischargeLocation.csv\")\n",
    "Pat = pd.read_csv(\"datasets/Patient.csv\")\n",
    "Cas = pd.read_csv(\"datasets/CaseManager.csv\")\n",
    "Hea = pd.read_csv(\"datasets/HealthRecord.csv\")\n",
    "Med = pd.read_csv(\"datasets/Medication.csv\")\n",
    "Tes = pd.read_csv(\"datasets/TestResult.csv\")\n",
    "Gen = pd.read_csv(\"datasets/GeneralHealthStatus.csv\")\n",
    "Lab = pd.read_csv(\"datasets/LaboratoryData.csv\")\n",
    "Xra = pd.read_csv(\"datasets/XRayResult.csv\")"
   ]
  },
  {
   "cell_type": "code",
   "execution_count": 7,
   "id": "78ac9632-f8a9-4810-8ba1-2f65dc00f408",
   "metadata": {},
   "outputs": [],
   "source": [
    "# Lowercase the columns from all of the tables [Ignore this step if they're already lowercase] [2pts]\n",
    "# Insert your code below: \n",
    "Dis.columns = Dis.columns.str.lower()\n",
    "Pat.columns = Pat.columns.str.lower()\n",
    "Cas.columns = Cas.columns.str.lower()\n",
    "Hea.columns = Hea.columns.str.lower()\n",
    "Med.columns = Med.columns.str.lower()\n",
    "Tes.columns = Tes.columns.str.lower()\n",
    "Gen.columns = Gen.columns.str.lower()\n",
    "Lab.columns = Lab.columns.str.lower()\n",
    "Xra.columns = Xra.columns.str.lower()"
   ]
  },
  {
   "cell_type": "code",
   "execution_count": 8,
   "id": "451fa7cb-d7c1-4717-a49f-0a843bb0de88",
   "metadata": {},
   "outputs": [],
   "source": [
    "# Using sqlite3 to create database and create tables [6pts]\n",
    "# Note: Name the database with your group ID\n",
    "# Insert your code below:\n",
    "conn = sqlite3.connect(\"my_database.db\")\n",
    "Dis.to_sql(\"DischargeLocation\", conn, if_exists=\"replace\", index=False)\n",
    "Pat.to_sql(\"Patient\", conn, if_exists=\"replace\", index=False)\n",
    "Cas.to_sql(\"CaseManager\", conn, if_exists=\"replace\", index=False)\n",
    "Hea.to_sql(\"HealthRecord\", conn, if_exists=\"replace\", index=False)\n",
    "Med.to_sql(\"Medication\", conn, if_exists=\"replace\", index=False)\n",
    "Tes.to_sql(\"TestResult\", conn, if_exists=\"replace\", index=False)\n",
    "Gen.to_sql(\"GeneralHealthStatus\", conn, if_exists=\"replace\", index=False)\n",
    "Lab.to_sql(\"LaboratoryData\", conn, if_exists=\"replace\", index=False)\n",
    "Xra.to_sql(\"XRayResult\", conn, if_exists=\"replace\", index=False)\n",
    "\n",
    "\n",
    "conn.close()"
   ]
  },
  {
   "cell_type": "markdown",
   "id": "013c1314-3656-4234-bb5a-a5f6f9a35180",
   "metadata": {},
   "source": [
    "### Queries [30pts]\n",
    "#### Translate your SQL queries from Project Milestone II to Logica queries\n",
    "\n",
    "To earn the full points, please ensure you fulfill all the three requirements as following:\n",
    "- Write the queries in English [2pts]\n",
    "- Write the queries in SQL (copy-paste from phase II)[2pts]\n",
    "- Write the queries in Logica [7pts]\n",
    "\n",
    "Note: If you find it hard to do the translation, provide 2 to 3 sentences to explain "
   ]
  },
  {
   "cell_type": "markdown",
   "id": "da79fee8",
   "metadata": {},
   "source": [
    "#### Query 0: Your Query in English"
   ]
  },
  {
   "cell_type": "code",
   "execution_count": 9,
   "id": "8daf6215",
   "metadata": {},
   "outputs": [
    {
     "name": "stdout",
     "output_type": "stream",
     "text": [
      "Done.\n"
     ]
    },
    {
     "data": {
      "text/html": [
       "<table>\n",
       "    <thead>\n",
       "        <tr>\n",
       "            <th>patientid</th>\n",
       "            <th>PatientName</th>\n",
       "            <th>cohabitantshealthstatus</th>\n",
       "            <th>CaseManagerName</th>\n",
       "        </tr>\n",
       "    </thead>\n",
       "    <tbody>\n",
       "        <tr>\n",
       "            <td>1</td>\n",
       "            <td>John Doe</td>\n",
       "            <td>Healthy</td>\n",
       "            <td>Sam Taylor</td>\n",
       "        </tr>\n",
       "    </tbody>\n",
       "</table>"
      ],
      "text/plain": [
       "[(1, 'John Doe', 'Healthy', 'Sam Taylor')]"
      ]
     },
     "execution_count": 9,
     "metadata": {},
     "output_type": "execute_result"
    }
   ],
   "source": [
    "%%sql sqlite:///my_database.db\n",
    "SELECT \n",
    "    p.PatientID, \n",
    "    p.Name AS PatientName, \n",
    "    p.CohabitantsHealthStatus,\n",
    "    cm.Cname AS CaseManagerName \n",
    "FROM \n",
    "    Patient p \n",
    "JOIN \n",
    "    CaseManager cm ON p.PatientID = cm.PatientID \n",
    "WHERE \n",
    "    cm.Cname = 'Sam Taylor'"
   ]
  },
  {
   "cell_type": "code",
   "execution_count": 10,
   "id": "be8ede99-34f1-4522-8f10-df3704696e03",
   "metadata": {},
   "outputs": [
    {
     "name": "stdout",
     "output_type": "stream",
     "text": [
      "Query is stored at \u001b[1mPatientWithCaseManagerSamTaylor_sql\u001b[0m variable.\n"
     ]
    },
    {
     "data": {
      "image/svg+xml": [
       "<?xml version=\"1.0\" encoding=\"UTF-8\" standalone=\"no\"?>\n",
       "<!DOCTYPE svg PUBLIC \"-//W3C//DTD SVG 1.1//EN\"\n",
       " \"http://www.w3.org/Graphics/SVG/1.1/DTD/svg11.dtd\">\n",
       "<!-- Generated by graphviz version 2.43.0 (0)\n",
       " -->\n",
       "<!-- Title: Concertina Pages: 1 -->\n",
       "<svg width=\"514pt\" height=\"116pt\"\n",
       " viewBox=\"0.00 0.00 513.54 116.00\" xmlns=\"http://www.w3.org/2000/svg\" xmlns:xlink=\"http://www.w3.org/1999/xlink\">\n",
       "<g id=\"graph0\" class=\"graph\" transform=\"scale(1 1) rotate(0) translate(4 112)\">\n",
       "<title>Concertina</title>\n",
       "<polygon fill=\"white\" stroke=\"transparent\" points=\"-4,4 -4,-112 509.54,-112 509.54,4 -4,4\"/>\n",
       "<!-- PatientWithCaseManagerSamTaylor -->\n",
       "<g id=\"node1\" class=\"node\">\n",
       "<title>PatientWithCaseManagerSamTaylor</title>\n",
       "<path fill=\"#caff70\" stroke=\"#575757\" d=\"M240.8,-35.15C240.8,-35.15 12.2,-18.85 12.2,-18.85 6.22,-18.43 6.22,-17.57 12.2,-17.15 12.2,-17.15 240.8,-0.85 240.8,-0.85 246.78,-0.43 258.75,-0.43 264.74,-0.85 264.74,-0.85 493.34,-17.15 493.34,-17.15 499.32,-17.57 499.32,-18.43 493.34,-18.85 493.34,-18.85 264.74,-35.15 264.74,-35.15 258.75,-35.57 246.78,-35.57 240.8,-35.15\"/>\n",
       "<text text-anchor=\"middle\" x=\"252.77\" y=\"-14.3\" font-family=\"Times,serif\" font-size=\"14.00\">PatientWithCaseManagerSamTaylor</text>\n",
       "</g>\n",
       "<!-- CaseManager -->\n",
       "<g id=\"node2\" class=\"node\">\n",
       "<title>CaseManager</title>\n",
       "<path fill=\"#b0e2ff\" stroke=\"#575757\" d=\"M255.27,-104.73C255.27,-106.53 229.5,-108 197.77,-108 166.04,-108 140.27,-106.53 140.27,-104.73 140.27,-104.73 140.27,-75.27 140.27,-75.27 140.27,-73.47 166.04,-72 197.77,-72 229.5,-72 255.27,-73.47 255.27,-75.27 255.27,-75.27 255.27,-104.73 255.27,-104.73\"/>\n",
       "<path fill=\"none\" stroke=\"#575757\" d=\"M255.27,-104.73C255.27,-102.92 229.5,-101.45 197.77,-101.45 166.04,-101.45 140.27,-102.92 140.27,-104.73\"/>\n",
       "<text text-anchor=\"middle\" x=\"197.77\" y=\"-86.3\" font-family=\"Times,serif\" font-size=\"14.00\">CaseManager</text>\n",
       "</g>\n",
       "<!-- CaseManager&#45;&gt;PatientWithCaseManagerSamTaylor -->\n",
       "<g id=\"edge1\" class=\"edge\">\n",
       "<title>CaseManager&#45;&gt;PatientWithCaseManagerSamTaylor</title>\n",
       "<path fill=\"none\" stroke=\"black\" d=\"M211.36,-71.7C218.15,-63.05 226.48,-52.46 233.88,-43.04\"/>\n",
       "<polygon fill=\"black\" stroke=\"black\" points=\"236.66,-45.17 240.08,-35.14 231.15,-40.85 236.66,-45.17\"/>\n",
       "</g>\n",
       "<!-- Patient -->\n",
       "<g id=\"node3\" class=\"node\">\n",
       "<title>Patient</title>\n",
       "<path fill=\"#b0e2ff\" stroke=\"#575757\" d=\"M341.77,-104.73C341.77,-106.53 326.53,-108 307.77,-108 289.01,-108 273.77,-106.53 273.77,-104.73 273.77,-104.73 273.77,-75.27 273.77,-75.27 273.77,-73.47 289.01,-72 307.77,-72 326.53,-72 341.77,-73.47 341.77,-75.27 341.77,-75.27 341.77,-104.73 341.77,-104.73\"/>\n",
       "<path fill=\"none\" stroke=\"#575757\" d=\"M341.77,-104.73C341.77,-102.92 326.53,-101.45 307.77,-101.45 289.01,-101.45 273.77,-102.92 273.77,-104.73\"/>\n",
       "<text text-anchor=\"middle\" x=\"307.77\" y=\"-86.3\" font-family=\"Times,serif\" font-size=\"14.00\">Patient</text>\n",
       "</g>\n",
       "<!-- Patient&#45;&gt;PatientWithCaseManagerSamTaylor -->\n",
       "<g id=\"edge2\" class=\"edge\">\n",
       "<title>Patient&#45;&gt;PatientWithCaseManagerSamTaylor</title>\n",
       "<path fill=\"none\" stroke=\"black\" d=\"M294.17,-71.7C287.38,-63.05 279.06,-52.46 271.66,-43.04\"/>\n",
       "<polygon fill=\"black\" stroke=\"black\" points=\"274.38,-40.85 265.45,-35.14 268.88,-45.17 274.38,-40.85\"/>\n",
       "</g>\n",
       "</g>\n",
       "</svg>\n"
      ],
      "text/plain": [
       "<graphviz.graphs.Digraph at 0x7fcc5eb88a30>"
      ]
     },
     "metadata": {},
     "output_type": "display_data"
    },
    {
     "name": "stdout",
     "output_type": "stream",
     "text": [
      "Running predicate: PatientWithCaseManagerSamTaylor (1 ms)\n",
      "The following table is stored at \u001b[1mPatientWithCaseManagerSamTaylor\u001b[0m variable.\n"
     ]
    },
    {
     "data": {
      "text/html": [
       "<div>\n",
       "<style scoped>\n",
       "    .dataframe tbody tr th:only-of-type {\n",
       "        vertical-align: middle;\n",
       "    }\n",
       "\n",
       "    .dataframe tbody tr th {\n",
       "        vertical-align: top;\n",
       "    }\n",
       "\n",
       "    .dataframe thead th {\n",
       "        text-align: right;\n",
       "    }\n",
       "</style>\n",
       "<table border=\"1\" class=\"dataframe\">\n",
       "  <thead>\n",
       "    <tr style=\"text-align: right;\">\n",
       "      <th></th>\n",
       "      <th>patientid</th>\n",
       "      <th>name</th>\n",
       "      <th>cohabitantshealthstatus</th>\n",
       "      <th>cname</th>\n",
       "    </tr>\n",
       "  </thead>\n",
       "  <tbody>\n",
       "    <tr>\n",
       "      <th>0</th>\n",
       "      <td>1</td>\n",
       "      <td>John Doe</td>\n",
       "      <td>Healthy</td>\n",
       "      <td>Sam Taylor</td>\n",
       "    </tr>\n",
       "  </tbody>\n",
       "</table>\n",
       "</div>"
      ],
      "text/plain": [
       "   patientid      name cohabitantshealthstatus       cname\n",
       "0          1  John Doe                 Healthy  Sam Taylor"
      ]
     },
     "metadata": {},
     "output_type": "display_data"
    },
    {
     "name": "stdout",
     "output_type": "stream",
     "text": [
      " \n"
     ]
    }
   ],
   "source": [
    "%%logica PatientWithCaseManagerSamTaylor\n",
    "PatientWithCaseManagerSamTaylor(patientid:, name: , cohabitantshealthstatus:, cname:) :-\n",
    "    Patient(patientid:, name:, cohabitantshealthstatus: ),\n",
    "    CaseManager(cname:, patientid:),\n",
    "    cname == \"Sam Taylor\";"
   ]
  },
  {
   "cell_type": "markdown",
   "id": "962d3f77-b3fe-47f1-b11a-0c90f269297e",
   "metadata": {},
   "source": [
    "#### Query 1:  Your query in English"
   ]
  },
  {
   "cell_type": "code",
   "execution_count": 11,
   "id": "92b9b590",
   "metadata": {},
   "outputs": [
    {
     "name": "stdout",
     "output_type": "stream",
     "text": [
      "Done.\n"
     ]
    },
    {
     "data": {
      "text/html": [
       "<table>\n",
       "    <thead>\n",
       "        <tr>\n",
       "            <th>patientid</th>\n",
       "            <th>name</th>\n",
       "            <th>testdate</th>\n",
       "            <th>resultbrief</th>\n",
       "        </tr>\n",
       "    </thead>\n",
       "    <tbody>\n",
       "        <tr>\n",
       "            <td>5</td>\n",
       "            <td>Carol White</td>\n",
       "            <td>2023-05-05</td>\n",
       "            <td>Abnormal</td>\n",
       "        </tr>\n",
       "    </tbody>\n",
       "</table>"
      ],
      "text/plain": [
       "[(5, 'Carol White', '2023-05-05', 'Abnormal')]"
      ]
     },
     "execution_count": 11,
     "metadata": {},
     "output_type": "execute_result"
    }
   ],
   "source": [
    "%%sql sqlite:///my_database.db\n",
    "SELECT \n",
    "    p.PatientID, \n",
    "    p.Name, \n",
    "    tr.TestDate, \n",
    "    tr.ResultBrief \n",
    "FROM \n",
    "    Patient p \n",
    "JOIN \n",
    "    HealthRecord hr ON p.PatientID = hr.PatientID \n",
    "JOIN \n",
    "    TestResult tr ON hr.HealthRecordID = tr.HealthRecordID \n",
    "WHERE \n",
    "    tr.TestName LIKE '%Cardiac%' AND \n",
    "    tr.ResultBrief LIKE '%Abnormal%'"
   ]
  },
  {
   "cell_type": "code",
   "execution_count": 12,
   "id": "afb740b8-ef07-4dce-9df5-d6ac21597d9d",
   "metadata": {},
   "outputs": [
    {
     "name": "stdout",
     "output_type": "stream",
     "text": [
      "Query is stored at \u001b[1mPatientsWithAbnormalHeartTests_sql\u001b[0m variable.\n"
     ]
    },
    {
     "data": {
      "image/svg+xml": [
       "<?xml version=\"1.0\" encoding=\"UTF-8\" standalone=\"no\"?>\n",
       "<!DOCTYPE svg PUBLIC \"-//W3C//DTD SVG 1.1//EN\"\n",
       " \"http://www.w3.org/Graphics/SVG/1.1/DTD/svg11.dtd\">\n",
       "<!-- Generated by graphviz version 2.43.0 (0)\n",
       " -->\n",
       "<!-- Title: Concertina Pages: 1 -->\n",
       "<svg width=\"480pt\" height=\"116pt\"\n",
       " viewBox=\"0.00 0.00 480.45 116.00\" xmlns=\"http://www.w3.org/2000/svg\" xmlns:xlink=\"http://www.w3.org/1999/xlink\">\n",
       "<g id=\"graph0\" class=\"graph\" transform=\"scale(1 1) rotate(0) translate(4 112)\">\n",
       "<title>Concertina</title>\n",
       "<polygon fill=\"white\" stroke=\"transparent\" points=\"-4,4 -4,-112 476.45,-112 476.45,4 -4,4\"/>\n",
       "<!-- HealthRecord -->\n",
       "<g id=\"node1\" class=\"node\">\n",
       "<title>HealthRecord</title>\n",
       "<path fill=\"#b0e2ff\" stroke=\"#575757\" d=\"M171.72,-104.73C171.72,-106.53 145.95,-108 114.22,-108 82.5,-108 56.72,-106.53 56.72,-104.73 56.72,-104.73 56.72,-75.27 56.72,-75.27 56.72,-73.47 82.5,-72 114.22,-72 145.95,-72 171.72,-73.47 171.72,-75.27 171.72,-75.27 171.72,-104.73 171.72,-104.73\"/>\n",
       "<path fill=\"none\" stroke=\"#575757\" d=\"M171.72,-104.73C171.72,-102.92 145.95,-101.45 114.22,-101.45 82.5,-101.45 56.72,-102.92 56.72,-104.73\"/>\n",
       "<text text-anchor=\"middle\" x=\"114.22\" y=\"-86.3\" font-family=\"Times,serif\" font-size=\"14.00\">HealthRecord</text>\n",
       "</g>\n",
       "<!-- PatientsWithAbnormalHeartTests -->\n",
       "<g id=\"node2\" class=\"node\">\n",
       "<title>PatientsWithAbnormalHeartTests</title>\n",
       "<path fill=\"#caff70\" stroke=\"#575757\" d=\"M224.26,-35.09C224.26,-35.09 11.74,-18.91 11.74,-18.91 5.76,-18.46 5.76,-17.54 11.74,-17.09 11.74,-17.09 224.26,-0.91 224.26,-0.91 230.24,-0.46 242.21,-0.46 248.19,-0.91 248.19,-0.91 460.71,-17.09 460.71,-17.09 466.69,-17.54 466.69,-18.46 460.71,-18.91 460.71,-18.91 248.19,-35.09 248.19,-35.09 242.21,-35.54 230.24,-35.54 224.26,-35.09\"/>\n",
       "<text text-anchor=\"middle\" x=\"236.22\" y=\"-14.3\" font-family=\"Times,serif\" font-size=\"14.00\">PatientsWithAbnormalHeartTests</text>\n",
       "</g>\n",
       "<!-- HealthRecord&#45;&gt;PatientsWithAbnormalHeartTests -->\n",
       "<g id=\"edge1\" class=\"edge\">\n",
       "<title>HealthRecord&#45;&gt;PatientsWithAbnormalHeartTests</title>\n",
       "<path fill=\"none\" stroke=\"black\" d=\"M144.07,-71.88C161.25,-62.02 182.94,-49.57 200.96,-39.24\"/>\n",
       "<polygon fill=\"black\" stroke=\"black\" points=\"203.07,-42.06 210,-34.05 199.59,-35.99 203.07,-42.06\"/>\n",
       "</g>\n",
       "<!-- TestResult -->\n",
       "<g id=\"node3\" class=\"node\">\n",
       "<title>TestResult</title>\n",
       "<path fill=\"#b0e2ff\" stroke=\"#575757\" d=\"M282.22,-104.73C282.22,-106.53 261.61,-108 236.22,-108 210.84,-108 190.22,-106.53 190.22,-104.73 190.22,-104.73 190.22,-75.27 190.22,-75.27 190.22,-73.47 210.84,-72 236.22,-72 261.61,-72 282.22,-73.47 282.22,-75.27 282.22,-75.27 282.22,-104.73 282.22,-104.73\"/>\n",
       "<path fill=\"none\" stroke=\"#575757\" d=\"M282.22,-104.73C282.22,-102.92 261.61,-101.45 236.22,-101.45 210.84,-101.45 190.22,-102.92 190.22,-104.73\"/>\n",
       "<text text-anchor=\"middle\" x=\"236.22\" y=\"-86.3\" font-family=\"Times,serif\" font-size=\"14.00\">TestResult</text>\n",
       "</g>\n",
       "<!-- TestResult&#45;&gt;PatientsWithAbnormalHeartTests -->\n",
       "<g id=\"edge2\" class=\"edge\">\n",
       "<title>TestResult&#45;&gt;PatientsWithAbnormalHeartTests</title>\n",
       "<path fill=\"none\" stroke=\"black\" d=\"M236.22,-71.7C236.22,-63.98 236.22,-54.71 236.22,-46.11\"/>\n",
       "<polygon fill=\"black\" stroke=\"black\" points=\"239.72,-46.1 236.22,-36.1 232.72,-46.1 239.72,-46.1\"/>\n",
       "</g>\n",
       "<!-- Patient -->\n",
       "<g id=\"node4\" class=\"node\">\n",
       "<title>Patient</title>\n",
       "<path fill=\"#b0e2ff\" stroke=\"#575757\" d=\"M368.22,-104.73C368.22,-106.53 352.98,-108 334.22,-108 315.46,-108 300.22,-106.53 300.22,-104.73 300.22,-104.73 300.22,-75.27 300.22,-75.27 300.22,-73.47 315.46,-72 334.22,-72 352.98,-72 368.22,-73.47 368.22,-75.27 368.22,-75.27 368.22,-104.73 368.22,-104.73\"/>\n",
       "<path fill=\"none\" stroke=\"#575757\" d=\"M368.22,-104.73C368.22,-102.92 352.98,-101.45 334.22,-101.45 315.46,-101.45 300.22,-102.92 300.22,-104.73\"/>\n",
       "<text text-anchor=\"middle\" x=\"334.22\" y=\"-86.3\" font-family=\"Times,serif\" font-size=\"14.00\">Patient</text>\n",
       "</g>\n",
       "<!-- Patient&#45;&gt;PatientsWithAbnormalHeartTests -->\n",
       "<g id=\"edge3\" class=\"edge\">\n",
       "<title>Patient&#45;&gt;PatientsWithAbnormalHeartTests</title>\n",
       "<path fill=\"none\" stroke=\"black\" d=\"M311,-72.41C297.56,-62.81 280.51,-50.63 266.08,-40.33\"/>\n",
       "<polygon fill=\"black\" stroke=\"black\" points=\"268.11,-37.48 257.94,-34.51 264.04,-43.17 268.11,-37.48\"/>\n",
       "</g>\n",
       "</g>\n",
       "</svg>\n"
      ],
      "text/plain": [
       "<graphviz.graphs.Digraph at 0x7fcc5eb67af0>"
      ]
     },
     "metadata": {},
     "output_type": "display_data"
    },
    {
     "name": "stdout",
     "output_type": "stream",
     "text": [
      "Running predicate: PatientsWithAbnormalHeartTests (2 ms)\n",
      "The following table is stored at \u001b[1mPatientsWithAbnormalHeartTests\u001b[0m variable.\n"
     ]
    },
    {
     "data": {
      "text/html": [
       "<div>\n",
       "<style scoped>\n",
       "    .dataframe tbody tr th:only-of-type {\n",
       "        vertical-align: middle;\n",
       "    }\n",
       "\n",
       "    .dataframe tbody tr th {\n",
       "        vertical-align: top;\n",
       "    }\n",
       "\n",
       "    .dataframe thead th {\n",
       "        text-align: right;\n",
       "    }\n",
       "</style>\n",
       "<table border=\"1\" class=\"dataframe\">\n",
       "  <thead>\n",
       "    <tr style=\"text-align: right;\">\n",
       "      <th></th>\n",
       "      <th>patientid</th>\n",
       "      <th>name</th>\n",
       "      <th>testdate</th>\n",
       "      <th>resultbrief</th>\n",
       "    </tr>\n",
       "  </thead>\n",
       "  <tbody>\n",
       "    <tr>\n",
       "      <th>0</th>\n",
       "      <td>5</td>\n",
       "      <td>Carol White</td>\n",
       "      <td>2023-05-05</td>\n",
       "      <td>Abnormal</td>\n",
       "    </tr>\n",
       "  </tbody>\n",
       "</table>\n",
       "</div>"
      ],
      "text/plain": [
       "   patientid         name    testdate resultbrief\n",
       "0          5  Carol White  2023-05-05    Abnormal"
      ]
     },
     "metadata": {},
     "output_type": "display_data"
    },
    {
     "name": "stdout",
     "output_type": "stream",
     "text": [
      " \n"
     ]
    }
   ],
   "source": [
    "%%logica PatientsWithAbnormalHeartTests\n",
    "# Insert your Logica query here:\n",
    "PatientsWithAbnormalHeartTests(patientid:, name:, testdate:, resultbrief:) :-\n",
    "    Patient(patientid:, name:),\n",
    "    HealthRecord(patientid:, healthrecordid:),\n",
    "    TestResult(testname:, resultbrief:, testdate:, healthrecordid: ),\n",
    "    Like(testname, \"%Cardiac%\"),\n",
    "    Like(resultbrief, \"%Abnormal%\");"
   ]
  },
  {
   "cell_type": "markdown",
   "id": "81ccd6f9",
   "metadata": {},
   "source": [
    "#### Query 2: Your query in English"
   ]
  },
  {
   "cell_type": "code",
   "execution_count": 13,
   "id": "5e821d05",
   "metadata": {},
   "outputs": [
    {
     "name": "stdout",
     "output_type": "stream",
     "text": [
      "Done.\n"
     ]
    },
    {
     "data": {
      "text/html": [
       "<table>\n",
       "    <thead>\n",
       "        <tr>\n",
       "            <th>name</th>\n",
       "            <th>patientid</th>\n",
       "            <th>admissiondate</th>\n",
       "            <th>durationofadmission</th>\n",
       "            <th>DischargeStatus</th>\n",
       "        </tr>\n",
       "    </thead>\n",
       "    <tbody>\n",
       "        <tr>\n",
       "            <td>John Doe</td>\n",
       "            <td>1</td>\n",
       "            <td>2023-04-01</td>\n",
       "            <td>14</td>\n",
       "            <td>Discharged</td>\n",
       "        </tr>\n",
       "    </tbody>\n",
       "</table>"
      ],
      "text/plain": [
       "[('John Doe', 1, '2023-04-01', 14, 'Discharged')]"
      ]
     },
     "execution_count": 13,
     "metadata": {},
     "output_type": "execute_result"
    }
   ],
   "source": [
    "%%sql sqlite:///my_database.db\n",
    "SELECT \n",
    "    p.Name,\n",
    "    h.PatientID,\n",
    "    h.AdmissionDate,\n",
    "    h.DurationOfAdmission,\n",
    "       CASE\n",
    "           WHEN date(h.AdmissionDate, '+' || h.DurationOfAdmission || ' days') <= date('now') THEN 'Discharged'\n",
    "           ELSE 'Not Discharged'\n",
    "       END as DischargeStatus\n",
    "FROM HealthRecord h\n",
    "JOIN Patient p ON h.PatientID = p.PatientID\n",
    "WHERE p.Name = 'John Doe'"
   ]
  },
  {
   "cell_type": "code",
   "execution_count": 35,
   "id": "5e668d16",
   "metadata": {},
   "outputs": [
    {
     "name": "stdout",
     "output_type": "stream",
     "text": [
      "Query is stored at \u001b[1mPatientHospitalizationStatus_sql\u001b[0m variable.\n"
     ]
    },
    {
     "data": {
      "image/svg+xml": [
       "<?xml version=\"1.0\" encoding=\"UTF-8\" standalone=\"no\"?>\n",
       "<!DOCTYPE svg PUBLIC \"-//W3C//DTD SVG 1.1//EN\"\n",
       " \"http://www.w3.org/Graphics/SVG/1.1/DTD/svg11.dtd\">\n",
       "<!-- Generated by graphviz version 2.43.0 (0)\n",
       " -->\n",
       "<!-- Title: Concertina Pages: 1 -->\n",
       "<svg width=\"416pt\" height=\"116pt\"\n",
       " viewBox=\"0.00 0.00 416.11 116.00\" xmlns=\"http://www.w3.org/2000/svg\" xmlns:xlink=\"http://www.w3.org/1999/xlink\">\n",
       "<g id=\"graph0\" class=\"graph\" transform=\"scale(1 1) rotate(0) translate(4 112)\">\n",
       "<title>Concertina</title>\n",
       "<polygon fill=\"white\" stroke=\"transparent\" points=\"-4,4 -4,-112 412.11,-112 412.11,4 -4,4\"/>\n",
       "<!-- HealthRecord -->\n",
       "<g id=\"node1\" class=\"node\">\n",
       "<title>HealthRecord</title>\n",
       "<path fill=\"#b0e2ff\" stroke=\"#575757\" d=\"M206.55,-104.73C206.55,-106.53 180.78,-108 149.05,-108 117.33,-108 91.55,-106.53 91.55,-104.73 91.55,-104.73 91.55,-75.27 91.55,-75.27 91.55,-73.47 117.33,-72 149.05,-72 180.78,-72 206.55,-73.47 206.55,-75.27 206.55,-75.27 206.55,-104.73 206.55,-104.73\"/>\n",
       "<path fill=\"none\" stroke=\"#575757\" d=\"M206.55,-104.73C206.55,-102.92 180.78,-101.45 149.05,-101.45 117.33,-101.45 91.55,-102.92 91.55,-104.73\"/>\n",
       "<text text-anchor=\"middle\" x=\"149.05\" y=\"-86.3\" font-family=\"Times,serif\" font-size=\"14.00\">HealthRecord</text>\n",
       "</g>\n",
       "<!-- PatientHospitalizationStatus -->\n",
       "<g id=\"node2\" class=\"node\">\n",
       "<title>PatientHospitalizationStatus</title>\n",
       "<path fill=\"gold\" stroke=\"#575757\" d=\"M192.1,-34.95C192.1,-34.95 11.9,-19.05 11.9,-19.05 5.92,-18.53 5.92,-17.47 11.9,-16.95 11.9,-16.95 192.1,-1.05 192.1,-1.05 198.08,-0.53 210.03,-0.53 216.01,-1.05 216.01,-1.05 396.21,-16.95 396.21,-16.95 402.18,-17.47 402.18,-18.53 396.21,-19.05 396.21,-19.05 216.01,-34.95 216.01,-34.95 210.03,-35.47 198.08,-35.47 192.1,-34.95\"/>\n",
       "<text text-anchor=\"middle\" x=\"204.05\" y=\"-14.3\" font-family=\"Times,serif\" font-size=\"14.00\">PatientHospitalizationStatus</text>\n",
       "</g>\n",
       "<!-- HealthRecord&#45;&gt;PatientHospitalizationStatus -->\n",
       "<g id=\"edge1\" class=\"edge\">\n",
       "<title>HealthRecord&#45;&gt;PatientHospitalizationStatus</title>\n",
       "<path fill=\"none\" stroke=\"black\" d=\"M162.65,-71.7C169.44,-63.05 177.76,-52.46 185.16,-43.04\"/>\n",
       "<polygon fill=\"black\" stroke=\"black\" points=\"187.94,-45.17 191.37,-35.14 182.44,-40.85 187.94,-45.17\"/>\n",
       "</g>\n",
       "<!-- Patient -->\n",
       "<g id=\"node3\" class=\"node\">\n",
       "<title>Patient</title>\n",
       "<path fill=\"#b0e2ff\" stroke=\"#575757\" d=\"M293.05,-104.73C293.05,-106.53 277.81,-108 259.05,-108 240.29,-108 225.05,-106.53 225.05,-104.73 225.05,-104.73 225.05,-75.27 225.05,-75.27 225.05,-73.47 240.29,-72 259.05,-72 277.81,-72 293.05,-73.47 293.05,-75.27 293.05,-75.27 293.05,-104.73 293.05,-104.73\"/>\n",
       "<path fill=\"none\" stroke=\"#575757\" d=\"M293.05,-104.73C293.05,-102.92 277.81,-101.45 259.05,-101.45 240.29,-101.45 225.05,-102.92 225.05,-104.73\"/>\n",
       "<text text-anchor=\"middle\" x=\"259.05\" y=\"-86.3\" font-family=\"Times,serif\" font-size=\"14.00\">Patient</text>\n",
       "</g>\n",
       "<!-- Patient&#45;&gt;PatientHospitalizationStatus -->\n",
       "<g id=\"edge2\" class=\"edge\">\n",
       "<title>Patient&#45;&gt;PatientHospitalizationStatus</title>\n",
       "<path fill=\"none\" stroke=\"black\" d=\"M245.46,-71.7C238.67,-63.05 230.34,-52.46 222.94,-43.04\"/>\n",
       "<polygon fill=\"black\" stroke=\"black\" points=\"225.67,-40.85 216.74,-35.14 220.16,-45.17 225.67,-40.85\"/>\n",
       "</g>\n",
       "</g>\n",
       "</svg>\n"
      ],
      "text/plain": [
       "<graphviz.graphs.Digraph at 0x7fcc5d97a670>"
      ]
     },
     "metadata": {},
     "output_type": "display_data"
    },
    {
     "name": "stdout",
     "output_type": "stream",
     "text": [
      "Running predicate: PatientHospitalizationStatus\n",
      "--- SQL ---\n",
      "SELECT\n",
      "  Patient.name AS name,\n",
      "  HealthRecord.patientid AS patientid,\n",
      "  HealthRecord.admissiondate AS admissiondate,\n",
      "  HealthRecord.durationofadmission AS durationofadmission,\n",
      "  IF((DATE(HealthRecord.admissiondate, HealthRecord.durationofadmission, 'day') <= CURRENT_DATE()), 'Discharged', 'Not Discharged') AS dischargestatus\n",
      "FROM\n",
      "  HealthRecord, Patient\n",
      "WHERE\n",
      "  (Patient.patientid = HealthRecord.patientid) AND\n",
      "  (Patient.name = 'John Doe')\n",
      "[ \u001b[91mError\u001b[0m ] Error while executing SQL:\n",
      "Execution failed on sql 'SELECT\n",
      "  Patient.name AS name,\n",
      "  HealthRecord.patientid AS patientid,\n",
      "  HealthRecord.admissiondate AS admissiondate,\n",
      "  HealthRecord.durationofadmission AS durationofadmission,\n",
      "  IF((DATE(HealthRecord.admissiondate, HealthRecord.durationofadmission, 'day') <= CURRENT_DATE()), 'Discharged', 'Not Discharged') AS dischargestatus\n",
      "FROM\n",
      "  HealthRecord, Patient\n",
      "WHERE\n",
      "  (Patient.patientid = HealthRecord.patientid) AND\n",
      "  (Patient.name = 'John Doe')': near \"(\": syntax error\n"
     ]
    },
    {
     "ename": "DatabaseError",
     "evalue": "Execution failed on sql 'SELECT\n  Patient.name AS name,\n  HealthRecord.patientid AS patientid,\n  HealthRecord.admissiondate AS admissiondate,\n  HealthRecord.durationofadmission AS durationofadmission,\n  IF((DATE(HealthRecord.admissiondate, HealthRecord.durationofadmission, 'day') <= CURRENT_DATE()), 'Discharged', 'Not Discharged') AS dischargestatus\nFROM\n  HealthRecord, Patient\nWHERE\n  (Patient.patientid = HealthRecord.patientid) AND\n  (Patient.name = 'John Doe')': near \"(\": syntax error",
     "output_type": "error",
     "traceback": [
      "\u001b[0;31m---------------------------------------------------------------------------\u001b[0m",
      "\u001b[0;31mOperationalError\u001b[0m                          Traceback (most recent call last)",
      "File \u001b[0;32m~/.local/lib/python3.9/site-packages/pandas/io/sql.py:2262\u001b[0m, in \u001b[0;36mSQLiteDatabase.execute\u001b[0;34m(self, sql, params)\u001b[0m\n\u001b[1;32m   2261\u001b[0m \u001b[39mtry\u001b[39;00m:\n\u001b[0;32m-> 2262\u001b[0m     cur\u001b[39m.\u001b[39;49mexecute(sql, \u001b[39m*\u001b[39;49margs)\n\u001b[1;32m   2263\u001b[0m     \u001b[39mreturn\u001b[39;00m cur\n",
      "\u001b[0;31mOperationalError\u001b[0m: near \"(\": syntax error",
      "\nThe above exception was the direct cause of the following exception:\n",
      "\u001b[0;31mDatabaseError\u001b[0m                             Traceback (most recent call last)",
      "\u001b[1;32m/workspaces/Logic_Programming_Playground/Project-Phase-III/Group-No-Phase-3.ipynb Cell 26\u001b[0m line \u001b[0;36m1\n\u001b[0;32m----> <a href='vscode-notebook-cell://codespaces%2Bsolid-telegram-6jxgr4qw7x246rr/workspaces/Logic_Programming_Playground/Project-Phase-III/Group-No-Phase-3.ipynb#X34sdnNjb2RlLXJlbW90ZQ%3D%3D?line=0'>1</a>\u001b[0m get_ipython()\u001b[39m.\u001b[39;49mrun_cell_magic(\u001b[39m'\u001b[39;49m\u001b[39mlogica\u001b[39;49m\u001b[39m'\u001b[39;49m, \u001b[39m'\u001b[39;49m\u001b[39mPatientHospitalizationStatus\u001b[39;49m\u001b[39m'\u001b[39;49m, \u001b[39m'\u001b[39;49m\u001b[39m# Insert your Logica query here:\u001b[39;49m\u001b[39m\\n\u001b[39;49;00m\u001b[39mPatientHospitalizationStatus(name:, patientid:, admissiondate:, durationofadmission:, dischargestatus:) :-\u001b[39;49m\u001b[39m\\n\u001b[39;49;00m\u001b[39m    HealthRecord(healthrecordid:, patientid:, admissiondate:, durationofadmission:),\u001b[39;49m\u001b[39m\\n\u001b[39;49;00m\u001b[39m    Patient(patientid:, name:),\u001b[39;49m\u001b[39m\\n\u001b[39;49;00m\u001b[39m    name == \u001b[39;49m\u001b[39m\"\u001b[39;49m\u001b[39mJohn Doe\u001b[39;49m\u001b[39m\"\u001b[39;49m\u001b[39m,\u001b[39;49m\u001b[39m\\n\u001b[39;49;00m\u001b[39m    dischargestatus == If(Date(admissiondate, durationofadmission, \u001b[39;49m\u001b[39m\"\u001b[39;49m\u001b[39mday\u001b[39;49m\u001b[39m\"\u001b[39;49m\u001b[39m) <= CurrentDate(), \u001b[39;49m\u001b[39m\"\u001b[39;49m\u001b[39mDischarged\u001b[39;49m\u001b[39m\"\u001b[39;49m\u001b[39m, \u001b[39;49m\u001b[39m\"\u001b[39;49m\u001b[39mNot Discharged\u001b[39;49m\u001b[39m\"\u001b[39;49m\u001b[39m);\u001b[39;49m\u001b[39m\\n\u001b[39;49;00m\u001b[39m'\u001b[39;49m)\n",
      "File \u001b[0;32m~/.local/lib/python3.9/site-packages/IPython/core/interactiveshell.py:2517\u001b[0m, in \u001b[0;36mInteractiveShell.run_cell_magic\u001b[0;34m(self, magic_name, line, cell)\u001b[0m\n\u001b[1;32m   2515\u001b[0m \u001b[39mwith\u001b[39;00m \u001b[39mself\u001b[39m\u001b[39m.\u001b[39mbuiltin_trap:\n\u001b[1;32m   2516\u001b[0m     args \u001b[39m=\u001b[39m (magic_arg_s, cell)\n\u001b[0;32m-> 2517\u001b[0m     result \u001b[39m=\u001b[39m fn(\u001b[39m*\u001b[39;49margs, \u001b[39m*\u001b[39;49m\u001b[39m*\u001b[39;49mkwargs)\n\u001b[1;32m   2519\u001b[0m \u001b[39m# The code below prevents the output from being displayed\u001b[39;00m\n\u001b[1;32m   2520\u001b[0m \u001b[39m# when using magics with decorator @output_can_be_silenced\u001b[39;00m\n\u001b[1;32m   2521\u001b[0m \u001b[39m# when the last Python token in the expression is a ';'.\u001b[39;00m\n\u001b[1;32m   2522\u001b[0m \u001b[39mif\u001b[39;00m \u001b[39mgetattr\u001b[39m(fn, magic\u001b[39m.\u001b[39mMAGIC_OUTPUT_CAN_BE_SILENCED, \u001b[39mFalse\u001b[39;00m):\n",
      "File \u001b[0;32m~/.local/lib/python3.9/site-packages/logica/colab_logica.py:149\u001b[0m, in \u001b[0;36mlogica\u001b[0;34m(line, cell)\u001b[0m\n\u001b[1;32m    147\u001b[0m \u001b[39m@register_cell_magic\u001b[39m\n\u001b[1;32m    148\u001b[0m \u001b[39mdef\u001b[39;00m \u001b[39mlogica\u001b[39m(line, cell):\n\u001b[0;32m--> 149\u001b[0m   Logica(line, cell, run_query\u001b[39m=\u001b[39;49m\u001b[39mTrue\u001b[39;49;00m)\n",
      "File \u001b[0;32m~/.local/lib/python3.9/site-packages/logica/colab_logica.py:317\u001b[0m, in \u001b[0;36mLogica\u001b[0;34m(line, cell, run_query)\u001b[0m\n\u001b[1;32m    314\u001b[0m   \u001b[39mraise\u001b[39;00m \u001b[39mException\u001b[39;00m(\u001b[39m'\u001b[39m\u001b[39mLogica only supports BigQuery, PostgreSQL and SQLite \u001b[39m\u001b[39m'\u001b[39m\n\u001b[1;32m    315\u001b[0m                   \u001b[39m'\u001b[39m\u001b[39mfor now.\u001b[39m\u001b[39m'\u001b[39m)   \n\u001b[1;32m    316\u001b[0m \u001b[39mtry\u001b[39;00m:                  \n\u001b[0;32m--> 317\u001b[0m   result_map \u001b[39m=\u001b[39m concertina_lib\u001b[39m.\u001b[39;49mExecuteLogicaProgram(\n\u001b[1;32m    318\u001b[0m     executions, sql_runner\u001b[39m=\u001b[39;49msql_runner, sql_engine\u001b[39m=\u001b[39;49mengine,\n\u001b[1;32m    319\u001b[0m     display_mode\u001b[39m=\u001b[39;49mDISPLAY_MODE)\n\u001b[1;32m    320\u001b[0m \u001b[39mexcept\u001b[39;00m infer\u001b[39m.\u001b[39mTypeErrorCaughtException \u001b[39mas\u001b[39;00m e:\n\u001b[1;32m    321\u001b[0m   e\u001b[39m.\u001b[39mShowMessage()\n",
      "File \u001b[0;32m~/.local/lib/python3.9/site-packages/logica/common/concertina_lib.py:306\u001b[0m, in \u001b[0;36mExecuteLogicaProgram\u001b[0;34m(logica_executions, sql_runner, sql_engine, display_mode)\u001b[0m\n\u001b[1;32m    303\u001b[0m     sql_runner(preamble, sql_engine, is_final\u001b[39m=\u001b[39m\u001b[39mFalse\u001b[39;00m)\n\u001b[1;32m    305\u001b[0m concertina \u001b[39m=\u001b[39m Concertina(config, engine, display_mode\u001b[39m=\u001b[39mdisplay_mode)\n\u001b[0;32m--> 306\u001b[0m concertina\u001b[39m.\u001b[39;49mRun()\n\u001b[1;32m    307\u001b[0m \u001b[39mreturn\u001b[39;00m engine\u001b[39m.\u001b[39mfinal_result\n",
      "File \u001b[0;32m~/.local/lib/python3.9/site-packages/logica/common/concertina_lib.py:105\u001b[0m, in \u001b[0;36mConcertina.Run\u001b[0;34m(self)\u001b[0m\n\u001b[1;32m    103\u001b[0m \u001b[39mdef\u001b[39;00m \u001b[39mRun\u001b[39m(\u001b[39mself\u001b[39m):\n\u001b[1;32m    104\u001b[0m   \u001b[39mwhile\u001b[39;00m \u001b[39mself\u001b[39m\u001b[39m.\u001b[39mactions_to_run:\n\u001b[0;32m--> 105\u001b[0m     \u001b[39mself\u001b[39;49m\u001b[39m.\u001b[39;49mRunOneAction()\n",
      "File \u001b[0;32m~/.local/lib/python3.9/site-packages/logica/common/concertina_lib.py:98\u001b[0m, in \u001b[0;36mConcertina.RunOneAction\u001b[0;34m(self)\u001b[0m\n\u001b[1;32m     96\u001b[0m \u001b[39mself\u001b[39m\u001b[39m.\u001b[39mrunning_actions \u001b[39m|\u001b[39m\u001b[39m=\u001b[39m {one_action}\n\u001b[1;32m     97\u001b[0m \u001b[39mself\u001b[39m\u001b[39m.\u001b[39mUpdateDisplay()\n\u001b[0;32m---> 98\u001b[0m \u001b[39mself\u001b[39;49m\u001b[39m.\u001b[39;49mengine\u001b[39m.\u001b[39;49mRun(\u001b[39mself\u001b[39;49m\u001b[39m.\u001b[39;49maction[one_action]\u001b[39m.\u001b[39;49mget(\u001b[39m'\u001b[39;49m\u001b[39maction\u001b[39;49m\u001b[39m'\u001b[39;49m, {}))\n\u001b[1;32m     99\u001b[0m \u001b[39mself\u001b[39m\u001b[39m.\u001b[39mrunning_actions \u001b[39m-\u001b[39m\u001b[39m=\u001b[39m {one_action}\n\u001b[1;32m    100\u001b[0m \u001b[39mself\u001b[39m\u001b[39m.\u001b[39mcomplete_actions \u001b[39m|\u001b[39m\u001b[39m=\u001b[39m {one_action}\n",
      "File \u001b[0;32m~/.local/lib/python3.9/site-packages/logica/common/concertina_lib.py:40\u001b[0m, in \u001b[0;36mConcertinaQueryEngine.Run\u001b[0;34m(self, action)\u001b[0m\n\u001b[1;32m     38\u001b[0m   \u001b[39mprint\u001b[39m(\u001b[39m'\u001b[39m\u001b[39mRunning predicate:\u001b[39m\u001b[39m'\u001b[39m, predicate, end\u001b[39m=\u001b[39m\u001b[39m'\u001b[39m\u001b[39m'\u001b[39m)\n\u001b[1;32m     39\u001b[0m start \u001b[39m=\u001b[39m datetime\u001b[39m.\u001b[39mdatetime\u001b[39m.\u001b[39mnow()\n\u001b[0;32m---> 40\u001b[0m result \u001b[39m=\u001b[39m \u001b[39mself\u001b[39;49m\u001b[39m.\u001b[39;49msql_runner(action[\u001b[39m'\u001b[39;49m\u001b[39msql\u001b[39;49m\u001b[39m'\u001b[39;49m], action[\u001b[39m'\u001b[39;49m\u001b[39mengine\u001b[39;49m\u001b[39m'\u001b[39;49m],\n\u001b[1;32m     41\u001b[0m                          is_final\u001b[39m=\u001b[39;49m(predicate \u001b[39min\u001b[39;49;00m \u001b[39mself\u001b[39;49m\u001b[39m.\u001b[39;49mfinal_predicates))\n\u001b[1;32m     42\u001b[0m end \u001b[39m=\u001b[39m datetime\u001b[39m.\u001b[39mdatetime\u001b[39m.\u001b[39mnow()\n\u001b[1;32m     43\u001b[0m \u001b[39mif\u001b[39;00m \u001b[39mself\u001b[39m\u001b[39m.\u001b[39mprint_running_predicate:\n",
      "File \u001b[0;32m~/.local/lib/python3.9/site-packages/logica/colab_logica.py:208\u001b[0m, in \u001b[0;36mSqliteRunner.__call__\u001b[0;34m(self, sql, engine, is_final)\u001b[0m\n\u001b[1;32m    207\u001b[0m \u001b[39mdef\u001b[39;00m \u001b[39m__call__\u001b[39m(\u001b[39mself\u001b[39m, sql, engine, is_final):\n\u001b[0;32m--> 208\u001b[0m   \u001b[39mreturn\u001b[39;00m RunSQL(sql, engine, \u001b[39mself\u001b[39;49m\u001b[39m.\u001b[39;49mconnection, is_final)\n",
      "File \u001b[0;32m~/.local/lib/python3.9/site-packages/logica/colab_logica.py:186\u001b[0m, in \u001b[0;36mRunSQL\u001b[0;34m(sql, engine, connection, is_final)\u001b[0m\n\u001b[1;32m    184\u001b[0m     \u001b[39mprint\u001b[39m(sql)\n\u001b[1;32m    185\u001b[0m     ShowError(\u001b[39m\"\u001b[39m\u001b[39mError while executing SQL:\u001b[39m\u001b[39m\\n\u001b[39;00m\u001b[39m%s\u001b[39;00m\u001b[39m\"\u001b[39m \u001b[39m%\u001b[39m e)\n\u001b[0;32m--> 186\u001b[0m     \u001b[39mraise\u001b[39;00m e\n\u001b[1;32m    187\u001b[0m   \u001b[39mreturn\u001b[39;00m \u001b[39mNone\u001b[39;00m\n\u001b[1;32m    188\u001b[0m \u001b[39melse\u001b[39;00m:\n",
      "File \u001b[0;32m~/.local/lib/python3.9/site-packages/logica/colab_logica.py:179\u001b[0m, in \u001b[0;36mRunSQL\u001b[0;34m(sql, engine, connection, is_final)\u001b[0m\n\u001b[1;32m    176\u001b[0m \u001b[39mtry\u001b[39;00m:\n\u001b[1;32m    177\u001b[0m   \u001b[39mif\u001b[39;00m is_final:\n\u001b[1;32m    178\u001b[0m     \u001b[39m# For final predicates this SQL is always a single statement.\u001b[39;00m\n\u001b[0;32m--> 179\u001b[0m     \u001b[39mreturn\u001b[39;00m pandas\u001b[39m.\u001b[39;49mread_sql(sql, connection)\n\u001b[1;32m    180\u001b[0m   \u001b[39melse\u001b[39;00m:\n\u001b[1;32m    181\u001b[0m     connection\u001b[39m.\u001b[39mexecutescript(sql)\n",
      "File \u001b[0;32m~/.local/lib/python3.9/site-packages/pandas/io/sql.py:654\u001b[0m, in \u001b[0;36mread_sql\u001b[0;34m(sql, con, index_col, coerce_float, params, parse_dates, columns, chunksize, dtype_backend, dtype)\u001b[0m\n\u001b[1;32m    652\u001b[0m \u001b[39mwith\u001b[39;00m pandasSQL_builder(con) \u001b[39mas\u001b[39;00m pandas_sql:\n\u001b[1;32m    653\u001b[0m     \u001b[39mif\u001b[39;00m \u001b[39misinstance\u001b[39m(pandas_sql, SQLiteDatabase):\n\u001b[0;32m--> 654\u001b[0m         \u001b[39mreturn\u001b[39;00m pandas_sql\u001b[39m.\u001b[39;49mread_query(\n\u001b[1;32m    655\u001b[0m             sql,\n\u001b[1;32m    656\u001b[0m             index_col\u001b[39m=\u001b[39;49mindex_col,\n\u001b[1;32m    657\u001b[0m             params\u001b[39m=\u001b[39;49mparams,\n\u001b[1;32m    658\u001b[0m             coerce_float\u001b[39m=\u001b[39;49mcoerce_float,\n\u001b[1;32m    659\u001b[0m             parse_dates\u001b[39m=\u001b[39;49mparse_dates,\n\u001b[1;32m    660\u001b[0m             chunksize\u001b[39m=\u001b[39;49mchunksize,\n\u001b[1;32m    661\u001b[0m             dtype_backend\u001b[39m=\u001b[39;49mdtype_backend,\n\u001b[1;32m    662\u001b[0m             dtype\u001b[39m=\u001b[39;49mdtype,\n\u001b[1;32m    663\u001b[0m         )\n\u001b[1;32m    665\u001b[0m     \u001b[39mtry\u001b[39;00m:\n\u001b[1;32m    666\u001b[0m         _is_table_name \u001b[39m=\u001b[39m pandas_sql\u001b[39m.\u001b[39mhas_table(sql)\n",
      "File \u001b[0;32m~/.local/lib/python3.9/site-packages/pandas/io/sql.py:2326\u001b[0m, in \u001b[0;36mSQLiteDatabase.read_query\u001b[0;34m(self, sql, index_col, coerce_float, parse_dates, params, chunksize, dtype, dtype_backend)\u001b[0m\n\u001b[1;32m   2315\u001b[0m \u001b[39mdef\u001b[39;00m \u001b[39mread_query\u001b[39m(\n\u001b[1;32m   2316\u001b[0m     \u001b[39mself\u001b[39m,\n\u001b[1;32m   2317\u001b[0m     sql,\n\u001b[0;32m   (...)\u001b[0m\n\u001b[1;32m   2324\u001b[0m     dtype_backend: DtypeBackend \u001b[39m|\u001b[39m Literal[\u001b[39m\"\u001b[39m\u001b[39mnumpy\u001b[39m\u001b[39m\"\u001b[39m] \u001b[39m=\u001b[39m \u001b[39m\"\u001b[39m\u001b[39mnumpy\u001b[39m\u001b[39m\"\u001b[39m,\n\u001b[1;32m   2325\u001b[0m ) \u001b[39m-\u001b[39m\u001b[39m>\u001b[39m DataFrame \u001b[39m|\u001b[39m Iterator[DataFrame]:\n\u001b[0;32m-> 2326\u001b[0m     cursor \u001b[39m=\u001b[39m \u001b[39mself\u001b[39;49m\u001b[39m.\u001b[39;49mexecute(sql, params)\n\u001b[1;32m   2327\u001b[0m     columns \u001b[39m=\u001b[39m [col_desc[\u001b[39m0\u001b[39m] \u001b[39mfor\u001b[39;00m col_desc \u001b[39min\u001b[39;00m cursor\u001b[39m.\u001b[39mdescription]\n\u001b[1;32m   2329\u001b[0m     \u001b[39mif\u001b[39;00m chunksize \u001b[39mis\u001b[39;00m \u001b[39mnot\u001b[39;00m \u001b[39mNone\u001b[39;00m:\n",
      "File \u001b[0;32m~/.local/lib/python3.9/site-packages/pandas/io/sql.py:2274\u001b[0m, in \u001b[0;36mSQLiteDatabase.execute\u001b[0;34m(self, sql, params)\u001b[0m\n\u001b[1;32m   2271\u001b[0m     \u001b[39mraise\u001b[39;00m ex \u001b[39mfrom\u001b[39;00m \u001b[39minner_exc\u001b[39;00m\n\u001b[1;32m   2273\u001b[0m ex \u001b[39m=\u001b[39m DatabaseError(\u001b[39mf\u001b[39m\u001b[39m\"\u001b[39m\u001b[39mExecution failed on sql \u001b[39m\u001b[39m'\u001b[39m\u001b[39m{\u001b[39;00msql\u001b[39m}\u001b[39;00m\u001b[39m'\u001b[39m\u001b[39m: \u001b[39m\u001b[39m{\u001b[39;00mexc\u001b[39m}\u001b[39;00m\u001b[39m\"\u001b[39m)\n\u001b[0;32m-> 2274\u001b[0m \u001b[39mraise\u001b[39;00m ex \u001b[39mfrom\u001b[39;00m \u001b[39mexc\u001b[39;00m\n",
      "\u001b[0;31mDatabaseError\u001b[0m: Execution failed on sql 'SELECT\n  Patient.name AS name,\n  HealthRecord.patientid AS patientid,\n  HealthRecord.admissiondate AS admissiondate,\n  HealthRecord.durationofadmission AS durationofadmission,\n  IF((DATE(HealthRecord.admissiondate, HealthRecord.durationofadmission, 'day') <= CURRENT_DATE()), 'Discharged', 'Not Discharged') AS dischargestatus\nFROM\n  HealthRecord, Patient\nWHERE\n  (Patient.patientid = HealthRecord.patientid) AND\n  (Patient.name = 'John Doe')': near \"(\": syntax error"
     ]
    }
   ],
   "source": [
    "%%logica PatientHospitalizationStatus\n",
    "# Insert your Logica query here:\n",
    "PatientHospitalizationStatus(name:, patientid:, admissiondate:, durationofadmission:, dischargestatus:) :-\n",
    "    HealthRecord(healthrecordid:, patientid:, admissiondate:, durationofadmission:),\n",
    "    Patient(patientid:, name:),\n",
    "    name == \"John Doe\",\n",
    "    dischargestatus == If(Date(admissiondate, durationofadmission, \"day\") <= CurrentDate(), \"Discharged\", \"Not Discharged\");\n"
   ]
  }
 ],
 "metadata": {
  "kernelspec": {
   "display_name": "Python 3 (ipykernel)",
   "language": "python",
   "name": "python3"
  },
  "language_info": {
   "codemirror_mode": {
    "name": "ipython",
    "version": 3
   },
   "file_extension": ".py",
   "mimetype": "text/x-python",
   "name": "python",
   "nbconvert_exporter": "python",
   "pygments_lexer": "ipython3",
   "version": "3.9.2"
  },
  "vscode": {
   "interpreter": {
    "hash": "8b7eedf106401029ffa3b0a271f73d13ee39815d8ba2ed15df644150c1891f03"
   }
  }
 },
 "nbformat": 4,
 "nbformat_minor": 5
}
