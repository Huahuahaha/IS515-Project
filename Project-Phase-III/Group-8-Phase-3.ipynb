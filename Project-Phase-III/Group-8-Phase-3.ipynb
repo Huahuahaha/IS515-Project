{
 "cells": [
  {
   "cell_type": "markdown",
   "id": "27441829-3bf0-45fd-8d7a-dafaf6947fad",
   "metadata": {},
   "source": [
    "# Project Phase III: Logica Design and Queries"
   ]
  },
  {
   "cell_type": "markdown",
   "id": "fb7d5965-a607-4107-97fa-2039ece0fc5d",
   "metadata": {},
   "source": [
    "Based on the feedback you received from previous milstones, using Logica to design the model and translate SQL queries in this notebook.\n",
    "\n",
    "Note: You might check **company/Logica_COMPANY.ipynb** for more information "
   ]
  },
  {
   "cell_type": "markdown",
   "id": "ea2bb6a1-4751-431e-a25f-8e21b55df47f",
   "metadata": {},
   "source": [
    "### Package Installation"
   ]
  },
  {
   "cell_type": "markdown",
   "id": "e1405820-19cd-47d4-be87-a88776845db2",
   "metadata": {},
   "source": [
    "First-time users need to install the following packages"
   ]
  },
  {
   "cell_type": "code",
   "execution_count": 90,
   "id": "3ff4af4b-e77e-46fe-9855-bda28e33068d",
   "metadata": {},
   "outputs": [
    {
     "name": "stdout",
     "output_type": "stream",
     "text": [
      "Requirement already satisfied: logica in /home/vscode/.local/lib/python3.9/site-packages (1.3.1415926)\n",
      "Requirement already satisfied: pandas in /home/vscode/.local/lib/python3.9/site-packages (2.1.3)\n",
      "Requirement already satisfied: python-dateutil>=2.8.2 in /home/vscode/.local/lib/python3.9/site-packages (from pandas) (2.8.2)\n",
      "Requirement already satisfied: pytz>=2020.1 in /home/vscode/.local/lib/python3.9/site-packages (from pandas) (2023.3.post1)\n",
      "Requirement already satisfied: numpy<2,>=1.22.4 in /home/vscode/.local/lib/python3.9/site-packages (from pandas) (1.26.2)\n",
      "Requirement already satisfied: tzdata>=2022.1 in /home/vscode/.local/lib/python3.9/site-packages (from pandas) (2023.3)\n",
      "Requirement already satisfied: six>=1.5 in /home/vscode/.local/lib/python3.9/site-packages (from python-dateutil>=2.8.2->pandas) (1.16.0)\n",
      "Requirement already satisfied: ipython-sql in /home/vscode/.local/lib/python3.9/site-packages (0.5.0)\n",
      "Requirement already satisfied: prettytable in /home/vscode/.local/lib/python3.9/site-packages (from ipython-sql) (3.9.0)\n",
      "Requirement already satisfied: ipython-genutils in /home/vscode/.local/lib/python3.9/site-packages (from ipython-sql) (0.2.0)\n",
      "Requirement already satisfied: sqlparse in /home/vscode/.local/lib/python3.9/site-packages (from ipython-sql) (0.4.4)\n",
      "Requirement already satisfied: six in /home/vscode/.local/lib/python3.9/site-packages (from ipython-sql) (1.16.0)\n",
      "Requirement already satisfied: sqlalchemy>=2.0 in /home/vscode/.local/lib/python3.9/site-packages (from ipython-sql) (2.0.23)\n",
      "Requirement already satisfied: ipython in /home/vscode/.local/lib/python3.9/site-packages (from ipython-sql) (8.18.1)\n",
      "Requirement already satisfied: greenlet!=0.4.17 in /home/vscode/.local/lib/python3.9/site-packages (from sqlalchemy>=2.0->ipython-sql) (3.0.1)\n",
      "Requirement already satisfied: typing-extensions>=4.2.0 in /home/vscode/.local/lib/python3.9/site-packages (from sqlalchemy>=2.0->ipython-sql) (4.8.0)\n",
      "Requirement already satisfied: stack-data in /home/vscode/.local/lib/python3.9/site-packages (from ipython->ipython-sql) (0.6.3)\n",
      "Requirement already satisfied: jedi>=0.16 in /home/vscode/.local/lib/python3.9/site-packages (from ipython->ipython-sql) (0.19.1)\n",
      "Requirement already satisfied: pexpect>4.3 in /home/vscode/.local/lib/python3.9/site-packages (from ipython->ipython-sql) (4.9.0)\n",
      "Requirement already satisfied: exceptiongroup in /home/vscode/.local/lib/python3.9/site-packages (from ipython->ipython-sql) (1.2.0)\n",
      "Requirement already satisfied: decorator in /home/vscode/.local/lib/python3.9/site-packages (from ipython->ipython-sql) (5.1.1)\n",
      "Requirement already satisfied: prompt-toolkit<3.1.0,>=3.0.41 in /home/vscode/.local/lib/python3.9/site-packages (from ipython->ipython-sql) (3.0.41)\n",
      "Requirement already satisfied: pygments>=2.4.0 in /home/vscode/.local/lib/python3.9/site-packages (from ipython->ipython-sql) (2.17.2)\n",
      "Requirement already satisfied: traitlets>=5 in /home/vscode/.local/lib/python3.9/site-packages (from ipython->ipython-sql) (5.14.0)\n",
      "Requirement already satisfied: matplotlib-inline in /home/vscode/.local/lib/python3.9/site-packages (from ipython->ipython-sql) (0.1.6)\n",
      "Requirement already satisfied: parso<0.9.0,>=0.8.3 in /home/vscode/.local/lib/python3.9/site-packages (from jedi>=0.16->ipython->ipython-sql) (0.8.3)\n",
      "Requirement already satisfied: ptyprocess>=0.5 in /home/vscode/.local/lib/python3.9/site-packages (from pexpect>4.3->ipython->ipython-sql) (0.7.0)\n",
      "Requirement already satisfied: wcwidth in /home/vscode/.local/lib/python3.9/site-packages (from prompt-toolkit<3.1.0,>=3.0.41->ipython->ipython-sql) (0.2.12)\n",
      "Requirement already satisfied: pure-eval in /home/vscode/.local/lib/python3.9/site-packages (from stack-data->ipython->ipython-sql) (0.2.2)\n",
      "Requirement already satisfied: asttokens>=2.1.0 in /home/vscode/.local/lib/python3.9/site-packages (from stack-data->ipython->ipython-sql) (2.4.1)\n",
      "Requirement already satisfied: executing>=1.2.0 in /home/vscode/.local/lib/python3.9/site-packages (from stack-data->ipython->ipython-sql) (2.0.1)\n"
     ]
    }
   ],
   "source": [
    "!python3 -m pip install logica\n",
    "!python3 -m pip install pandas\n",
    "!pip install ipython-sql"
   ]
  },
  {
   "cell_type": "markdown",
   "id": "2e3f5043-7460-4779-b370-b5b7c26dc1aa",
   "metadata": {},
   "source": [
    "After running the cell above, please restart the kernel to move on"
   ]
  },
  {
   "cell_type": "markdown",
   "id": "d5336421-0f54-4e6b-bfa0-17aec63b9c7f",
   "metadata": {},
   "source": [
    "### Package Import"
   ]
  },
  {
   "cell_type": "markdown",
   "id": "07f5ff1f-ff73-48b9-a421-7dc7677e17db",
   "metadata": {},
   "source": [
    "You can disregard the messages (\"Could not import ...\") when executing the cell below"
   ]
  },
  {
   "cell_type": "code",
   "execution_count": 91,
   "id": "bdc4b02a-6333-4ba6-8e4b-2db8c9c69195",
   "metadata": {},
   "outputs": [],
   "source": [
    "from logica import colab_logica\n",
    "import pandas as pd\n",
    "import sqlite3"
   ]
  },
  {
   "cell_type": "code",
   "execution_count": 92,
   "id": "a3dca9da-8207-47a2-ac26-cb9760710cae",
   "metadata": {},
   "outputs": [],
   "source": [
    "colab_logica.SetPreamble(\n",
    "    '@Engine(\"sqlite\"); @AttachDatabase(\"mydata\", \"my_database.db\");'\n",
    ")"
   ]
  },
  {
   "cell_type": "code",
   "execution_count": 93,
   "id": "e3c7e1d4-c95c-4a1f-82c2-9e3201d0d011",
   "metadata": {},
   "outputs": [
    {
     "name": "stdout",
     "output_type": "stream",
     "text": [
      "The sql extension is already loaded. To reload it, use:\n",
      "  %reload_ext sql\n"
     ]
    }
   ],
   "source": [
    "%load_ext sql"
   ]
  },
  {
   "cell_type": "markdown",
   "id": "45392a18-e405-49e4-9c33-7aff747f0be7",
   "metadata": {},
   "source": [
    "### Database Creation [10pts]"
   ]
  },
  {
   "cell_type": "markdown",
   "id": "d068c2f8-4acc-478b-b3f0-00064c481c56",
   "metadata": {},
   "source": [
    "Logica is typically run on a database. Since we only possess CSV files, we need first create a database.\n",
    "\n",
    "**Note: Upload your csv files to `datasets` folder.**"
   ]
  },
  {
   "cell_type": "code",
   "execution_count": 94,
   "id": "0d5b18f1-d4d2-4637-afb7-31932fb6340d",
   "metadata": {},
   "outputs": [],
   "source": [
    "# Read csv files as Pandas DataFrame [2pts]\n",
    "# Insert your code below:\n",
    "Dis = pd.read_csv(\"datasets/DischargeLocation.csv\")\n",
    "Pat = pd.read_csv(\"datasets/Patient.csv\")\n",
    "Cas = pd.read_csv(\"datasets/CaseManager.csv\")\n",
    "Hea = pd.read_csv(\"datasets/HealthRecord.csv\")\n",
    "Med = pd.read_csv(\"datasets/Medication.csv\")\n",
    "Tes = pd.read_csv(\"datasets/TestResult.csv\")\n",
    "Gen = pd.read_csv(\"datasets/GeneralHealthStatus.csv\")\n",
    "Lab = pd.read_csv(\"datasets/LaboratoryData.csv\")\n",
    "Xra = pd.read_csv(\"datasets/XRayResult.csv\")"
   ]
  },
  {
   "cell_type": "code",
   "execution_count": 95,
   "id": "78ac9632-f8a9-4810-8ba1-2f65dc00f408",
   "metadata": {},
   "outputs": [],
   "source": [
    "# Lowercase the columns from all of the tables [Ignore this step if they're already lowercase] [2pts]\n",
    "# Insert your code below: \n",
    "Dis.columns = Dis.columns.str.lower()\n",
    "Pat.columns = Pat.columns.str.lower()\n",
    "Cas.columns = Cas.columns.str.lower()\n",
    "Hea.columns = Hea.columns.str.lower()\n",
    "Med.columns = Med.columns.str.lower()\n",
    "Tes.columns = Tes.columns.str.lower()\n",
    "Gen.columns = Gen.columns.str.lower()\n",
    "Lab.columns = Lab.columns.str.lower()\n",
    "Xra.columns = Xra.columns.str.lower()"
   ]
  },
  {
   "cell_type": "code",
   "execution_count": 96,
   "id": "451fa7cb-d7c1-4717-a49f-0a843bb0de88",
   "metadata": {},
   "outputs": [],
   "source": [
    "# Using sqlite3 to create database and create tables [6pts]\n",
    "# Note: Name the database with your group ID\n",
    "# Insert your code below:\n",
    "conn = sqlite3.connect(\"my_database.db\")\n",
    "Dis.to_sql(\"DischargeLocation\", conn, if_exists=\"replace\", index=False)\n",
    "Pat.to_sql(\"Patient\", conn, if_exists=\"replace\", index=False)\n",
    "Cas.to_sql(\"CaseManager\", conn, if_exists=\"replace\", index=False)\n",
    "Hea.to_sql(\"HealthRecord\", conn, if_exists=\"replace\", index=False)\n",
    "Med.to_sql(\"Medication\", conn, if_exists=\"replace\", index=False)\n",
    "Tes.to_sql(\"TestResult\", conn, if_exists=\"replace\", index=False)\n",
    "Gen.to_sql(\"GeneralHealthStatus\", conn, if_exists=\"replace\", index=False)\n",
    "Lab.to_sql(\"LaboratoryData\", conn, if_exists=\"replace\", index=False)\n",
    "Xra.to_sql(\"XRayResult\", conn, if_exists=\"replace\", index=False)\n",
    "\n",
    "\n",
    "conn.close()"
   ]
  },
  {
   "cell_type": "markdown",
   "id": "013c1314-3656-4234-bb5a-a5f6f9a35180",
   "metadata": {},
   "source": [
    "### Queries [30pts]\n",
    "#### Translate your SQL queries from Project Milestone II to Logica queries\n",
    "\n",
    "To earn the full points, please ensure you fulfill all the three requirements as following:\n",
    "- Write the queries in English [2pts]\n",
    "- Write the queries in SQL (copy-paste from phase II)[2pts]\n",
    "- Write the queries in Logica [7pts]\n",
    "\n",
    "Note: If you find it hard to do the translation, provide 2 to 3 sentences to explain "
   ]
  },
  {
   "cell_type": "markdown",
   "id": "da79fee8",
   "metadata": {},
   "source": [
    "#### Query 0: Your Query in English\n",
    "Which patients are assigned to a specific case manager, and what is their health status?"
   ]
  },
  {
   "cell_type": "code",
   "execution_count": 97,
   "id": "8daf6215",
   "metadata": {},
   "outputs": [
    {
     "name": "stdout",
     "output_type": "stream",
     "text": [
      "Done.\n"
     ]
    },
    {
     "data": {
      "text/html": [
       "<table>\n",
       "    <thead>\n",
       "        <tr>\n",
       "            <th>patientid</th>\n",
       "            <th>PatientName</th>\n",
       "            <th>cohabitantshealthstatus</th>\n",
       "            <th>CaseManagerName</th>\n",
       "        </tr>\n",
       "    </thead>\n",
       "    <tbody>\n",
       "        <tr>\n",
       "            <td>1</td>\n",
       "            <td>John Doe</td>\n",
       "            <td>Healthy</td>\n",
       "            <td>Sam Taylor</td>\n",
       "        </tr>\n",
       "    </tbody>\n",
       "</table>"
      ],
      "text/plain": [
       "[(1, 'John Doe', 'Healthy', 'Sam Taylor')]"
      ]
     },
     "execution_count": 97,
     "metadata": {},
     "output_type": "execute_result"
    }
   ],
   "source": [
    "%%sql sqlite:///my_database.db\n",
    "SELECT \n",
    "    p.PatientID, \n",
    "    p.Name AS PatientName, \n",
    "    p.CohabitantsHealthStatus,\n",
    "    cm.Cname AS CaseManagerName \n",
    "FROM \n",
    "    Patient p \n",
    "JOIN \n",
    "    CaseManager cm ON p.PatientID = cm.PatientID \n",
    "WHERE \n",
    "    cm.Cname = 'Sam Taylor'"
   ]
  },
  {
   "cell_type": "code",
   "execution_count": 98,
   "id": "be8ede99-34f1-4522-8f10-df3704696e03",
   "metadata": {},
   "outputs": [
    {
     "name": "stdout",
     "output_type": "stream",
     "text": [
      "Query is stored at \u001b[1mPatientWithCaseManagerSamTaylor_sql\u001b[0m variable.\n"
     ]
    },
    {
     "data": {
      "image/svg+xml": [
       "<?xml version=\"1.0\" encoding=\"UTF-8\" standalone=\"no\"?>\n",
       "<!DOCTYPE svg PUBLIC \"-//W3C//DTD SVG 1.1//EN\"\n",
       " \"http://www.w3.org/Graphics/SVG/1.1/DTD/svg11.dtd\">\n",
       "<!-- Generated by graphviz version 2.43.0 (0)\n",
       " -->\n",
       "<!-- Title: Concertina Pages: 1 -->\n",
       "<svg width=\"514pt\" height=\"116pt\"\n",
       " viewBox=\"0.00 0.00 513.54 116.00\" xmlns=\"http://www.w3.org/2000/svg\" xmlns:xlink=\"http://www.w3.org/1999/xlink\">\n",
       "<g id=\"graph0\" class=\"graph\" transform=\"scale(1 1) rotate(0) translate(4 112)\">\n",
       "<title>Concertina</title>\n",
       "<polygon fill=\"white\" stroke=\"transparent\" points=\"-4,4 -4,-112 509.54,-112 509.54,4 -4,4\"/>\n",
       "<!-- CaseManager -->\n",
       "<g id=\"node1\" class=\"node\">\n",
       "<title>CaseManager</title>\n",
       "<path fill=\"#b0e2ff\" stroke=\"#575757\" d=\"M255.27,-104.73C255.27,-106.53 229.5,-108 197.77,-108 166.04,-108 140.27,-106.53 140.27,-104.73 140.27,-104.73 140.27,-75.27 140.27,-75.27 140.27,-73.47 166.04,-72 197.77,-72 229.5,-72 255.27,-73.47 255.27,-75.27 255.27,-75.27 255.27,-104.73 255.27,-104.73\"/>\n",
       "<path fill=\"none\" stroke=\"#575757\" d=\"M255.27,-104.73C255.27,-102.92 229.5,-101.45 197.77,-101.45 166.04,-101.45 140.27,-102.92 140.27,-104.73\"/>\n",
       "<text text-anchor=\"middle\" x=\"197.77\" y=\"-86.3\" font-family=\"Times,serif\" font-size=\"14.00\">CaseManager</text>\n",
       "</g>\n",
       "<!-- PatientWithCaseManagerSamTaylor -->\n",
       "<g id=\"node3\" class=\"node\">\n",
       "<title>PatientWithCaseManagerSamTaylor</title>\n",
       "<path fill=\"#caff70\" stroke=\"#575757\" d=\"M240.8,-35.15C240.8,-35.15 12.2,-18.85 12.2,-18.85 6.22,-18.43 6.22,-17.57 12.2,-17.15 12.2,-17.15 240.8,-0.85 240.8,-0.85 246.78,-0.43 258.75,-0.43 264.74,-0.85 264.74,-0.85 493.34,-17.15 493.34,-17.15 499.32,-17.57 499.32,-18.43 493.34,-18.85 493.34,-18.85 264.74,-35.15 264.74,-35.15 258.75,-35.57 246.78,-35.57 240.8,-35.15\"/>\n",
       "<text text-anchor=\"middle\" x=\"252.77\" y=\"-14.3\" font-family=\"Times,serif\" font-size=\"14.00\">PatientWithCaseManagerSamTaylor</text>\n",
       "</g>\n",
       "<!-- CaseManager&#45;&gt;PatientWithCaseManagerSamTaylor -->\n",
       "<g id=\"edge1\" class=\"edge\">\n",
       "<title>CaseManager&#45;&gt;PatientWithCaseManagerSamTaylor</title>\n",
       "<path fill=\"none\" stroke=\"black\" d=\"M211.36,-71.7C218.15,-63.05 226.48,-52.46 233.88,-43.04\"/>\n",
       "<polygon fill=\"black\" stroke=\"black\" points=\"236.66,-45.17 240.08,-35.14 231.15,-40.85 236.66,-45.17\"/>\n",
       "</g>\n",
       "<!-- Patient -->\n",
       "<g id=\"node2\" class=\"node\">\n",
       "<title>Patient</title>\n",
       "<path fill=\"#b0e2ff\" stroke=\"#575757\" d=\"M341.77,-104.73C341.77,-106.53 326.53,-108 307.77,-108 289.01,-108 273.77,-106.53 273.77,-104.73 273.77,-104.73 273.77,-75.27 273.77,-75.27 273.77,-73.47 289.01,-72 307.77,-72 326.53,-72 341.77,-73.47 341.77,-75.27 341.77,-75.27 341.77,-104.73 341.77,-104.73\"/>\n",
       "<path fill=\"none\" stroke=\"#575757\" d=\"M341.77,-104.73C341.77,-102.92 326.53,-101.45 307.77,-101.45 289.01,-101.45 273.77,-102.92 273.77,-104.73\"/>\n",
       "<text text-anchor=\"middle\" x=\"307.77\" y=\"-86.3\" font-family=\"Times,serif\" font-size=\"14.00\">Patient</text>\n",
       "</g>\n",
       "<!-- Patient&#45;&gt;PatientWithCaseManagerSamTaylor -->\n",
       "<g id=\"edge2\" class=\"edge\">\n",
       "<title>Patient&#45;&gt;PatientWithCaseManagerSamTaylor</title>\n",
       "<path fill=\"none\" stroke=\"black\" d=\"M294.17,-71.7C287.38,-63.05 279.06,-52.46 271.66,-43.04\"/>\n",
       "<polygon fill=\"black\" stroke=\"black\" points=\"274.38,-40.85 265.45,-35.14 268.88,-45.17 274.38,-40.85\"/>\n",
       "</g>\n",
       "</g>\n",
       "</svg>\n"
      ],
      "text/plain": [
       "<graphviz.graphs.Digraph at 0x7f2dd79970a0>"
      ]
     },
     "metadata": {},
     "output_type": "display_data"
    },
    {
     "name": "stdout",
     "output_type": "stream",
     "text": [
      "Running predicate: PatientWithCaseManagerSamTaylor (3 ms)\n",
      "The following table is stored at \u001b[1mPatientWithCaseManagerSamTaylor\u001b[0m variable.\n"
     ]
    },
    {
     "data": {
      "text/html": [
       "<div>\n",
       "<style scoped>\n",
       "    .dataframe tbody tr th:only-of-type {\n",
       "        vertical-align: middle;\n",
       "    }\n",
       "\n",
       "    .dataframe tbody tr th {\n",
       "        vertical-align: top;\n",
       "    }\n",
       "\n",
       "    .dataframe thead th {\n",
       "        text-align: right;\n",
       "    }\n",
       "</style>\n",
       "<table border=\"1\" class=\"dataframe\">\n",
       "  <thead>\n",
       "    <tr style=\"text-align: right;\">\n",
       "      <th></th>\n",
       "      <th>patientid</th>\n",
       "      <th>name</th>\n",
       "      <th>cohabitantshealthstatus</th>\n",
       "      <th>cname</th>\n",
       "    </tr>\n",
       "  </thead>\n",
       "  <tbody>\n",
       "    <tr>\n",
       "      <th>0</th>\n",
       "      <td>1</td>\n",
       "      <td>John Doe</td>\n",
       "      <td>Healthy</td>\n",
       "      <td>Sam Taylor</td>\n",
       "    </tr>\n",
       "  </tbody>\n",
       "</table>\n",
       "</div>"
      ],
      "text/plain": [
       "   patientid      name cohabitantshealthstatus       cname\n",
       "0          1  John Doe                 Healthy  Sam Taylor"
      ]
     },
     "metadata": {},
     "output_type": "display_data"
    },
    {
     "name": "stdout",
     "output_type": "stream",
     "text": [
      " \n"
     ]
    }
   ],
   "source": [
    "%%logica PatientWithCaseManagerSamTaylor\n",
    "PatientWithCaseManagerSamTaylor(patientid:, name: , cohabitantshealthstatus:, cname:) :-\n",
    "    Patient(patientid:, name:, cohabitantshealthstatus: ),\n",
    "    CaseManager(cname:, patientid:),\n",
    "    cname == \"Sam Taylor\";"
   ]
  },
  {
   "cell_type": "markdown",
   "id": "962d3f77-b3fe-47f1-b11a-0c90f269297e",
   "metadata": {},
   "source": [
    "#### Query 1:  Your query in English\n",
    "Which patients showed abnormal results on their most recent heart test?"
   ]
  },
  {
   "cell_type": "code",
   "execution_count": 99,
   "id": "92b9b590",
   "metadata": {},
   "outputs": [
    {
     "name": "stdout",
     "output_type": "stream",
     "text": [
      "Done.\n"
     ]
    },
    {
     "data": {
      "text/html": [
       "<table>\n",
       "    <thead>\n",
       "        <tr>\n",
       "            <th>patientid</th>\n",
       "            <th>name</th>\n",
       "            <th>testdate</th>\n",
       "            <th>resultbrief</th>\n",
       "        </tr>\n",
       "    </thead>\n",
       "    <tbody>\n",
       "        <tr>\n",
       "            <td>5</td>\n",
       "            <td>Carol White</td>\n",
       "            <td>2023-05-05</td>\n",
       "            <td>Abnormal</td>\n",
       "        </tr>\n",
       "    </tbody>\n",
       "</table>"
      ],
      "text/plain": [
       "[(5, 'Carol White', '2023-05-05', 'Abnormal')]"
      ]
     },
     "execution_count": 99,
     "metadata": {},
     "output_type": "execute_result"
    }
   ],
   "source": [
    "%%sql sqlite:///my_database.db\n",
    "SELECT \n",
    "    p.PatientID, \n",
    "    p.Name, \n",
    "    tr.TestDate, \n",
    "    tr.ResultBrief \n",
    "FROM \n",
    "    Patient p \n",
    "JOIN \n",
    "    HealthRecord hr ON p.PatientID = hr.PatientID \n",
    "JOIN \n",
    "    TestResult tr ON hr.HealthRecordID = tr.HealthRecordID \n",
    "WHERE \n",
    "    tr.TestName LIKE '%Cardiac%' AND \n",
    "    tr.ResultBrief LIKE '%Abnormal%'"
   ]
  },
  {
   "cell_type": "code",
   "execution_count": 100,
   "id": "afb740b8-ef07-4dce-9df5-d6ac21597d9d",
   "metadata": {},
   "outputs": [
    {
     "name": "stdout",
     "output_type": "stream",
     "text": [
      "Query is stored at \u001b[1mPatientsWithAbnormalHeartTests_sql\u001b[0m variable.\n"
     ]
    },
    {
     "data": {
      "image/svg+xml": [
       "<?xml version=\"1.0\" encoding=\"UTF-8\" standalone=\"no\"?>\n",
       "<!DOCTYPE svg PUBLIC \"-//W3C//DTD SVG 1.1//EN\"\n",
       " \"http://www.w3.org/Graphics/SVG/1.1/DTD/svg11.dtd\">\n",
       "<!-- Generated by graphviz version 2.43.0 (0)\n",
       " -->\n",
       "<!-- Title: Concertina Pages: 1 -->\n",
       "<svg width=\"480pt\" height=\"116pt\"\n",
       " viewBox=\"0.00 0.00 480.45 116.00\" xmlns=\"http://www.w3.org/2000/svg\" xmlns:xlink=\"http://www.w3.org/1999/xlink\">\n",
       "<g id=\"graph0\" class=\"graph\" transform=\"scale(1 1) rotate(0) translate(4 112)\">\n",
       "<title>Concertina</title>\n",
       "<polygon fill=\"white\" stroke=\"transparent\" points=\"-4,4 -4,-112 476.45,-112 476.45,4 -4,4\"/>\n",
       "<!-- Patient -->\n",
       "<g id=\"node1\" class=\"node\">\n",
       "<title>Patient</title>\n",
       "<path fill=\"#b0e2ff\" stroke=\"#575757\" d=\"M172.22,-104.73C172.22,-106.53 156.98,-108 138.22,-108 119.46,-108 104.22,-106.53 104.22,-104.73 104.22,-104.73 104.22,-75.27 104.22,-75.27 104.22,-73.47 119.46,-72 138.22,-72 156.98,-72 172.22,-73.47 172.22,-75.27 172.22,-75.27 172.22,-104.73 172.22,-104.73\"/>\n",
       "<path fill=\"none\" stroke=\"#575757\" d=\"M172.22,-104.73C172.22,-102.92 156.98,-101.45 138.22,-101.45 119.46,-101.45 104.22,-102.92 104.22,-104.73\"/>\n",
       "<text text-anchor=\"middle\" x=\"138.22\" y=\"-86.3\" font-family=\"Times,serif\" font-size=\"14.00\">Patient</text>\n",
       "</g>\n",
       "<!-- PatientsWithAbnormalHeartTests -->\n",
       "<g id=\"node4\" class=\"node\">\n",
       "<title>PatientsWithAbnormalHeartTests</title>\n",
       "<path fill=\"#caff70\" stroke=\"#575757\" d=\"M224.26,-35.09C224.26,-35.09 11.74,-18.91 11.74,-18.91 5.76,-18.46 5.76,-17.54 11.74,-17.09 11.74,-17.09 224.26,-0.91 224.26,-0.91 230.24,-0.46 242.21,-0.46 248.19,-0.91 248.19,-0.91 460.71,-17.09 460.71,-17.09 466.69,-17.54 466.69,-18.46 460.71,-18.91 460.71,-18.91 248.19,-35.09 248.19,-35.09 242.21,-35.54 230.24,-35.54 224.26,-35.09\"/>\n",
       "<text text-anchor=\"middle\" x=\"236.22\" y=\"-14.3\" font-family=\"Times,serif\" font-size=\"14.00\">PatientsWithAbnormalHeartTests</text>\n",
       "</g>\n",
       "<!-- Patient&#45;&gt;PatientsWithAbnormalHeartTests -->\n",
       "<g id=\"edge1\" class=\"edge\">\n",
       "<title>Patient&#45;&gt;PatientsWithAbnormalHeartTests</title>\n",
       "<path fill=\"none\" stroke=\"black\" d=\"M161.45,-72.41C174.89,-62.81 191.94,-50.63 206.36,-40.33\"/>\n",
       "<polygon fill=\"black\" stroke=\"black\" points=\"208.41,-43.17 214.51,-34.51 204.34,-37.48 208.41,-43.17\"/>\n",
       "</g>\n",
       "<!-- TestResult -->\n",
       "<g id=\"node2\" class=\"node\">\n",
       "<title>TestResult</title>\n",
       "<path fill=\"#b0e2ff\" stroke=\"#575757\" d=\"M282.22,-104.73C282.22,-106.53 261.61,-108 236.22,-108 210.84,-108 190.22,-106.53 190.22,-104.73 190.22,-104.73 190.22,-75.27 190.22,-75.27 190.22,-73.47 210.84,-72 236.22,-72 261.61,-72 282.22,-73.47 282.22,-75.27 282.22,-75.27 282.22,-104.73 282.22,-104.73\"/>\n",
       "<path fill=\"none\" stroke=\"#575757\" d=\"M282.22,-104.73C282.22,-102.92 261.61,-101.45 236.22,-101.45 210.84,-101.45 190.22,-102.92 190.22,-104.73\"/>\n",
       "<text text-anchor=\"middle\" x=\"236.22\" y=\"-86.3\" font-family=\"Times,serif\" font-size=\"14.00\">TestResult</text>\n",
       "</g>\n",
       "<!-- TestResult&#45;&gt;PatientsWithAbnormalHeartTests -->\n",
       "<g id=\"edge2\" class=\"edge\">\n",
       "<title>TestResult&#45;&gt;PatientsWithAbnormalHeartTests</title>\n",
       "<path fill=\"none\" stroke=\"black\" d=\"M236.22,-71.7C236.22,-63.98 236.22,-54.71 236.22,-46.11\"/>\n",
       "<polygon fill=\"black\" stroke=\"black\" points=\"239.72,-46.1 236.22,-36.1 232.72,-46.1 239.72,-46.1\"/>\n",
       "</g>\n",
       "<!-- HealthRecord -->\n",
       "<g id=\"node3\" class=\"node\">\n",
       "<title>HealthRecord</title>\n",
       "<path fill=\"#b0e2ff\" stroke=\"#575757\" d=\"M415.72,-104.73C415.72,-106.53 389.95,-108 358.22,-108 326.5,-108 300.72,-106.53 300.72,-104.73 300.72,-104.73 300.72,-75.27 300.72,-75.27 300.72,-73.47 326.5,-72 358.22,-72 389.95,-72 415.72,-73.47 415.72,-75.27 415.72,-75.27 415.72,-104.73 415.72,-104.73\"/>\n",
       "<path fill=\"none\" stroke=\"#575757\" d=\"M415.72,-104.73C415.72,-102.92 389.95,-101.45 358.22,-101.45 326.5,-101.45 300.72,-102.92 300.72,-104.73\"/>\n",
       "<text text-anchor=\"middle\" x=\"358.22\" y=\"-86.3\" font-family=\"Times,serif\" font-size=\"14.00\">HealthRecord</text>\n",
       "</g>\n",
       "<!-- HealthRecord&#45;&gt;PatientsWithAbnormalHeartTests -->\n",
       "<g id=\"edge3\" class=\"edge\">\n",
       "<title>HealthRecord&#45;&gt;PatientsWithAbnormalHeartTests</title>\n",
       "<path fill=\"none\" stroke=\"black\" d=\"M328.38,-71.88C311.2,-62.02 289.51,-49.57 271.49,-39.24\"/>\n",
       "<polygon fill=\"black\" stroke=\"black\" points=\"272.86,-35.99 262.45,-34.05 269.38,-42.06 272.86,-35.99\"/>\n",
       "</g>\n",
       "</g>\n",
       "</svg>\n"
      ],
      "text/plain": [
       "<graphviz.graphs.Digraph at 0x7f2dd7997730>"
      ]
     },
     "metadata": {},
     "output_type": "display_data"
    },
    {
     "name": "stdout",
     "output_type": "stream",
     "text": [
      "Running predicate: PatientsWithAbnormalHeartTests (1 ms)\n",
      "The following table is stored at \u001b[1mPatientsWithAbnormalHeartTests\u001b[0m variable.\n"
     ]
    },
    {
     "data": {
      "text/html": [
       "<div>\n",
       "<style scoped>\n",
       "    .dataframe tbody tr th:only-of-type {\n",
       "        vertical-align: middle;\n",
       "    }\n",
       "\n",
       "    .dataframe tbody tr th {\n",
       "        vertical-align: top;\n",
       "    }\n",
       "\n",
       "    .dataframe thead th {\n",
       "        text-align: right;\n",
       "    }\n",
       "</style>\n",
       "<table border=\"1\" class=\"dataframe\">\n",
       "  <thead>\n",
       "    <tr style=\"text-align: right;\">\n",
       "      <th></th>\n",
       "      <th>patientid</th>\n",
       "      <th>name</th>\n",
       "      <th>testdate</th>\n",
       "      <th>resultbrief</th>\n",
       "    </tr>\n",
       "  </thead>\n",
       "  <tbody>\n",
       "    <tr>\n",
       "      <th>0</th>\n",
       "      <td>5</td>\n",
       "      <td>Carol White</td>\n",
       "      <td>2023-05-05</td>\n",
       "      <td>Abnormal</td>\n",
       "    </tr>\n",
       "  </tbody>\n",
       "</table>\n",
       "</div>"
      ],
      "text/plain": [
       "   patientid         name    testdate resultbrief\n",
       "0          5  Carol White  2023-05-05    Abnormal"
      ]
     },
     "metadata": {},
     "output_type": "display_data"
    },
    {
     "name": "stdout",
     "output_type": "stream",
     "text": [
      " \n"
     ]
    }
   ],
   "source": [
    "%%logica PatientsWithAbnormalHeartTests\n",
    "# Insert your Logica query here:\n",
    "PatientsWithAbnormalHeartTests(patientid:, name:, testdate:, resultbrief:) :-\n",
    "    Patient(patientid:, name:),\n",
    "    HealthRecord(patientid:, healthrecordid:),\n",
    "    TestResult(testname:, resultbrief:, testdate:, healthrecordid: ),\n",
    "    Like(testname, \"%Cardiac%\"),\n",
    "    Like(resultbrief, \"%Abnormal%\");"
   ]
  },
  {
   "cell_type": "markdown",
   "id": "81ccd6f9",
   "metadata": {},
   "source": [
    "#### Query 2: Your query in English\n",
    "     Select the patients whose duration of admission is over 7 days and have taken medicine of Lisinopril"
   ]
  },
  {
   "cell_type": "code",
   "execution_count": 101,
   "id": "5e821d05",
   "metadata": {},
   "outputs": [
    {
     "name": "stdout",
     "output_type": "stream",
     "text": [
      "Done.\n"
     ]
    },
    {
     "data": {
      "text/html": [
       "<table>\n",
       "    <thead>\n",
       "        <tr>\n",
       "            <th>patientid</th>\n",
       "            <th>name</th>\n",
       "            <th>durationofadmission</th>\n",
       "            <th>mname</th>\n",
       "        </tr>\n",
       "    </thead>\n",
       "    <tbody>\n",
       "        <tr>\n",
       "            <td>6</td>\n",
       "            <td>David Green</td>\n",
       "            <td>9</td>\n",
       "            <td>Lisinopril</td>\n",
       "        </tr>\n",
       "        <tr>\n",
       "            <td>1</td>\n",
       "            <td>John Doe</td>\n",
       "            <td>14</td>\n",
       "            <td>Lisinopril</td>\n",
       "        </tr>\n",
       "    </tbody>\n",
       "</table>"
      ],
      "text/plain": [
       "[(6, 'David Green', 9, 'Lisinopril'), (1, 'John Doe', 14, 'Lisinopril')]"
      ]
     },
     "execution_count": 101,
     "metadata": {},
     "output_type": "execute_result"
    }
   ],
   "source": [
    "%%sql sqlite:///my_database.db\n",
    "SELECT \n",
    "    p.PatientID, \n",
    "    p.Name, \n",
    "    h.DurationOfAdmission,\n",
    "    m.Mname\n",
    "FROM \n",
    "    HealthRecord h\n",
    "JOIN \n",
    "    Patient p ON h.PatientID = p.PatientID\n",
    "JOIN \n",
    "    Medication m ON h.HealthRecordID = m.HealthRecordID\n",
    "WHERE \n",
    "    h.DurationOfAdmission > 7 AND\n",
    "    m.Mname = \"Lisinopril\";\n",
    "\n"
   ]
  },
  {
   "cell_type": "code",
   "execution_count": 102,
   "id": "5e668d16",
   "metadata": {},
   "outputs": [
    {
     "name": "stdout",
     "output_type": "stream",
     "text": [
      "Query is stored at \u001b[1mPatientsDurationOneWeek_sql\u001b[0m variable.\n"
     ]
    },
    {
     "data": {
      "image/svg+xml": [
       "<?xml version=\"1.0\" encoding=\"UTF-8\" standalone=\"no\"?>\n",
       "<!DOCTYPE svg PUBLIC \"-//W3C//DTD SVG 1.1//EN\"\n",
       " \"http://www.w3.org/Graphics/SVG/1.1/DTD/svg11.dtd\">\n",
       "<!-- Generated by graphviz version 2.43.0 (0)\n",
       " -->\n",
       "<!-- Title: Concertina Pages: 1 -->\n",
       "<svg width=\"385pt\" height=\"116pt\"\n",
       " viewBox=\"0.00 0.00 384.85 116.00\" xmlns=\"http://www.w3.org/2000/svg\" xmlns:xlink=\"http://www.w3.org/1999/xlink\">\n",
       "<g id=\"graph0\" class=\"graph\" transform=\"scale(1 1) rotate(0) translate(4 112)\">\n",
       "<title>Concertina</title>\n",
       "<polygon fill=\"white\" stroke=\"transparent\" points=\"-4,4 -4,-112 380.85,-112 380.85,4 -4,4\"/>\n",
       "<!-- Patient -->\n",
       "<g id=\"node1\" class=\"node\">\n",
       "<title>Patient</title>\n",
       "<path fill=\"#b0e2ff\" stroke=\"#575757\" d=\"M122.43,-104.73C122.43,-106.53 107.19,-108 88.43,-108 69.67,-108 54.43,-106.53 54.43,-104.73 54.43,-104.73 54.43,-75.27 54.43,-75.27 54.43,-73.47 69.67,-72 88.43,-72 107.19,-72 122.43,-73.47 122.43,-75.27 122.43,-75.27 122.43,-104.73 122.43,-104.73\"/>\n",
       "<path fill=\"none\" stroke=\"#575757\" d=\"M122.43,-104.73C122.43,-102.92 107.19,-101.45 88.43,-101.45 69.67,-101.45 54.43,-102.92 54.43,-104.73\"/>\n",
       "<text text-anchor=\"middle\" x=\"88.43\" y=\"-86.3\" font-family=\"Times,serif\" font-size=\"14.00\">Patient</text>\n",
       "</g>\n",
       "<!-- PatientsDurationOneWeek -->\n",
       "<g id=\"node4\" class=\"node\">\n",
       "<title>PatientsDurationOneWeek</title>\n",
       "<path fill=\"#caff70\" stroke=\"#575757\" d=\"M176.48,-34.86C176.48,-34.86 12.02,-19.14 12.02,-19.14 6.05,-18.57 6.05,-17.43 12.02,-16.86 12.02,-16.86 176.48,-1.14 176.48,-1.14 182.45,-0.57 194.4,-0.57 200.37,-1.14 200.37,-1.14 364.84,-16.86 364.84,-16.86 370.81,-17.43 370.81,-18.57 364.84,-19.14 364.84,-19.14 200.37,-34.86 200.37,-34.86 194.4,-35.43 182.45,-35.43 176.48,-34.86\"/>\n",
       "<text text-anchor=\"middle\" x=\"188.43\" y=\"-14.3\" font-family=\"Times,serif\" font-size=\"14.00\">PatientsDurationOneWeek</text>\n",
       "</g>\n",
       "<!-- Patient&#45;&gt;PatientsDurationOneWeek -->\n",
       "<g id=\"edge1\" class=\"edge\">\n",
       "<title>Patient&#45;&gt;PatientsDurationOneWeek</title>\n",
       "<path fill=\"none\" stroke=\"black\" d=\"M112.13,-72.41C126.03,-62.68 143.73,-50.29 158.58,-39.89\"/>\n",
       "<polygon fill=\"black\" stroke=\"black\" points=\"160.76,-42.64 166.94,-34.04 156.74,-36.91 160.76,-42.64\"/>\n",
       "</g>\n",
       "<!-- Medication -->\n",
       "<g id=\"node2\" class=\"node\">\n",
       "<title>Medication</title>\n",
       "<path fill=\"#b0e2ff\" stroke=\"#575757\" d=\"M236.43,-104.73C236.43,-106.53 214.91,-108 188.43,-108 161.94,-108 140.43,-106.53 140.43,-104.73 140.43,-104.73 140.43,-75.27 140.43,-75.27 140.43,-73.47 161.94,-72 188.43,-72 214.91,-72 236.43,-73.47 236.43,-75.27 236.43,-75.27 236.43,-104.73 236.43,-104.73\"/>\n",
       "<path fill=\"none\" stroke=\"#575757\" d=\"M236.43,-104.73C236.43,-102.92 214.91,-101.45 188.43,-101.45 161.94,-101.45 140.43,-102.92 140.43,-104.73\"/>\n",
       "<text text-anchor=\"middle\" x=\"188.43\" y=\"-86.3\" font-family=\"Times,serif\" font-size=\"14.00\">Medication</text>\n",
       "</g>\n",
       "<!-- Medication&#45;&gt;PatientsDurationOneWeek -->\n",
       "<g id=\"edge2\" class=\"edge\">\n",
       "<title>Medication&#45;&gt;PatientsDurationOneWeek</title>\n",
       "<path fill=\"none\" stroke=\"black\" d=\"M188.43,-71.7C188.43,-63.98 188.43,-54.71 188.43,-46.11\"/>\n",
       "<polygon fill=\"black\" stroke=\"black\" points=\"191.93,-46.1 188.43,-36.1 184.93,-46.1 191.93,-46.1\"/>\n",
       "</g>\n",
       "<!-- HealthRecord -->\n",
       "<g id=\"node3\" class=\"node\">\n",
       "<title>HealthRecord</title>\n",
       "<path fill=\"#b0e2ff\" stroke=\"#575757\" d=\"M369.93,-104.73C369.93,-106.53 344.15,-108 312.43,-108 280.7,-108 254.93,-106.53 254.93,-104.73 254.93,-104.73 254.93,-75.27 254.93,-75.27 254.93,-73.47 280.7,-72 312.43,-72 344.15,-72 369.93,-73.47 369.93,-75.27 369.93,-75.27 369.93,-104.73 369.93,-104.73\"/>\n",
       "<path fill=\"none\" stroke=\"#575757\" d=\"M369.93,-104.73C369.93,-102.92 344.15,-101.45 312.43,-101.45 280.7,-101.45 254.93,-102.92 254.93,-104.73\"/>\n",
       "<text text-anchor=\"middle\" x=\"312.43\" y=\"-86.3\" font-family=\"Times,serif\" font-size=\"14.00\">HealthRecord</text>\n",
       "</g>\n",
       "<!-- HealthRecord&#45;&gt;PatientsDurationOneWeek -->\n",
       "<g id=\"edge3\" class=\"edge\">\n",
       "<title>HealthRecord&#45;&gt;PatientsDurationOneWeek</title>\n",
       "<path fill=\"none\" stroke=\"black\" d=\"M282.09,-71.88C264.22,-61.79 241.56,-48.99 223,-38.52\"/>\n",
       "<polygon fill=\"black\" stroke=\"black\" points=\"224.69,-35.45 214.26,-33.58 221.25,-41.55 224.69,-35.45\"/>\n",
       "</g>\n",
       "</g>\n",
       "</svg>\n"
      ],
      "text/plain": [
       "<graphviz.graphs.Digraph at 0x7f2dd6e9d3d0>"
      ]
     },
     "metadata": {},
     "output_type": "display_data"
    },
    {
     "name": "stdout",
     "output_type": "stream",
     "text": [
      "Running predicate: PatientsDurationOneWeek (2 ms)\n",
      "The following table is stored at \u001b[1mPatientsDurationOneWeek\u001b[0m variable.\n"
     ]
    },
    {
     "data": {
      "text/html": [
       "<div>\n",
       "<style scoped>\n",
       "    .dataframe tbody tr th:only-of-type {\n",
       "        vertical-align: middle;\n",
       "    }\n",
       "\n",
       "    .dataframe tbody tr th {\n",
       "        vertical-align: top;\n",
       "    }\n",
       "\n",
       "    .dataframe thead th {\n",
       "        text-align: right;\n",
       "    }\n",
       "</style>\n",
       "<table border=\"1\" class=\"dataframe\">\n",
       "  <thead>\n",
       "    <tr style=\"text-align: right;\">\n",
       "      <th></th>\n",
       "      <th>patientid</th>\n",
       "      <th>name</th>\n",
       "      <th>durationofadmission</th>\n",
       "      <th>mname</th>\n",
       "    </tr>\n",
       "  </thead>\n",
       "  <tbody>\n",
       "    <tr>\n",
       "      <th>0</th>\n",
       "      <td>6</td>\n",
       "      <td>David Green</td>\n",
       "      <td>9</td>\n",
       "      <td>Lisinopril</td>\n",
       "    </tr>\n",
       "    <tr>\n",
       "      <th>1</th>\n",
       "      <td>1</td>\n",
       "      <td>John Doe</td>\n",
       "      <td>14</td>\n",
       "      <td>Lisinopril</td>\n",
       "    </tr>\n",
       "  </tbody>\n",
       "</table>\n",
       "</div>"
      ],
      "text/plain": [
       "   patientid         name  durationofadmission       mname\n",
       "0          6  David Green                    9  Lisinopril\n",
       "1          1     John Doe                   14  Lisinopril"
      ]
     },
     "metadata": {},
     "output_type": "display_data"
    },
    {
     "name": "stdout",
     "output_type": "stream",
     "text": [
      " \n"
     ]
    }
   ],
   "source": [
    "%%logica PatientsDurationOneWeek\n",
    "PatientsDurationOneWeek(patientid:, name:, durationofadmission:, mname:) :-\n",
    "    Patient(patientid:, name:),\n",
    "    HealthRecord(patientid:, healthrecordid:, durationofadmission:),\n",
    "    Medication(healthrecordid:, mname:),\n",
    "    durationofadmission > 7,\n",
    "    mname == \"Lisinopril\";\n",
    "\n",
    "\n"
   ]
  },
  {
   "cell_type": "markdown",
   "metadata": {},
   "source": [
    "#### Query 2: Your query in English\n",
    "Check whether the patient is still hospitalized in this hospital?"
   ]
  },
  {
   "cell_type": "code",
   "execution_count": 103,
   "metadata": {},
   "outputs": [
    {
     "name": "stdout",
     "output_type": "stream",
     "text": [
      "Done.\n"
     ]
    },
    {
     "data": {
      "text/html": [
       "<table>\n",
       "    <thead>\n",
       "        <tr>\n",
       "            <th>name</th>\n",
       "            <th>patientid</th>\n",
       "            <th>admissiondate</th>\n",
       "            <th>durationofadmission</th>\n",
       "            <th>DischargeStatus</th>\n",
       "        </tr>\n",
       "    </thead>\n",
       "    <tbody>\n",
       "        <tr>\n",
       "            <td>John Doe</td>\n",
       "            <td>1</td>\n",
       "            <td>2023-04-01</td>\n",
       "            <td>14</td>\n",
       "            <td>Discharged</td>\n",
       "        </tr>\n",
       "    </tbody>\n",
       "</table>"
      ],
      "text/plain": [
       "[('John Doe', 1, '2023-04-01', 14, 'Discharged')]"
      ]
     },
     "execution_count": 103,
     "metadata": {},
     "output_type": "execute_result"
    }
   ],
   "source": [
    "%%sql sqlite:///my_database.db\n",
    "SELECT \n",
    "    p.Name,\n",
    "    h.PatientID,\n",
    "    h.AdmissionDate,\n",
    "    h.DurationOfAdmission,\n",
    "       CASE\n",
    "           WHEN date(h.AdmissionDate, '+' || h.DurationOfAdmission || ' days') <= date('now') THEN 'Discharged'\n",
    "           ELSE 'Not Discharged'\n",
    "       END as DischargeStatus\n",
    "FROM HealthRecord h\n",
    "JOIN Patient p ON h.PatientID = p.PatientID\n",
    "WHERE p.Name = 'John Doe';"
   ]
  },
  {
   "cell_type": "markdown",
   "metadata": {},
   "source": [
    "Can't transalte successfully since still finding a way to calculate date in Logica"
   ]
  }
 ],
 "metadata": {
  "kernelspec": {
   "display_name": "Python 3 (ipykernel)",
   "language": "python",
   "name": "python3"
  },
  "language_info": {
   "codemirror_mode": {
    "name": "ipython",
    "version": 3
   },
   "file_extension": ".py",
   "mimetype": "text/x-python",
   "name": "python",
   "nbconvert_exporter": "python",
   "pygments_lexer": "ipython3",
   "version": "3.9.2"
  },
  "vscode": {
   "interpreter": {
    "hash": "8b7eedf106401029ffa3b0a271f73d13ee39815d8ba2ed15df644150c1891f03"
   }
  }
 },
 "nbformat": 4,
 "nbformat_minor": 5
}
